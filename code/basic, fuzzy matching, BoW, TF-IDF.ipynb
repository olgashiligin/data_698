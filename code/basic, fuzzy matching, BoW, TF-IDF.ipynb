{
 "cells": [
  {
   "cell_type": "markdown",
   "metadata": {},
   "source": [
    "# Data Exploration"
   ]
  },
  {
   "cell_type": "code",
   "execution_count": 104,
   "metadata": {},
   "outputs": [
    {
     "data": {
      "text/html": [
       "        <script type=\"text/javascript\">\n",
       "        window.PlotlyConfig = {MathJaxConfig: 'local'};\n",
       "        if (window.MathJax) {MathJax.Hub.Config({SVG: {font: \"STIX-Web\"}});}\n",
       "        if (typeof require !== 'undefined') {\n",
       "        require.undef(\"plotly\");\n",
       "        requirejs.config({\n",
       "            paths: {\n",
       "                'plotly': ['https://cdn.plot.ly/plotly-latest.min']\n",
       "            }\n",
       "        });\n",
       "        require(['plotly'], function(Plotly) {\n",
       "            window._Plotly = Plotly;\n",
       "        });\n",
       "        }\n",
       "        </script>\n",
       "        "
      ]
     },
     "metadata": {},
     "output_type": "display_data"
    }
   ],
   "source": [
    "# loading necessary packages\n",
    "import numpy as np\n",
    "import pandas as pd\n",
    "import seaborn as sns\n",
    "import matplotlib.pyplot as plt\n",
    "%matplotlib inline\n",
    "import plotly.offline as py\n",
    "py.init_notebook_mode(connected=True)\n",
    "import plotly.graph_objs as go\n",
    "import plotly.tools as tls\n",
    "import os"
   ]
  },
  {
   "cell_type": "code",
   "execution_count": 105,
   "metadata": {},
   "outputs": [],
   "source": [
    "# reading data\n",
    "df = pd.read_csv(\"data.csv\")"
   ]
  },
  {
   "cell_type": "code",
   "execution_count": 106,
   "metadata": {},
   "outputs": [
    {
     "data": {
      "text/html": [
       "<div>\n",
       "<style scoped>\n",
       "    .dataframe tbody tr th:only-of-type {\n",
       "        vertical-align: middle;\n",
       "    }\n",
       "\n",
       "    .dataframe tbody tr th {\n",
       "        vertical-align: top;\n",
       "    }\n",
       "\n",
       "    .dataframe thead th {\n",
       "        text-align: right;\n",
       "    }\n",
       "</style>\n",
       "<table border=\"1\" class=\"dataframe\">\n",
       "  <thead>\n",
       "    <tr style=\"text-align: right;\">\n",
       "      <th></th>\n",
       "      <th>id</th>\n",
       "      <th>qid1</th>\n",
       "      <th>qid2</th>\n",
       "      <th>question1</th>\n",
       "      <th>question2</th>\n",
       "      <th>is_duplicate</th>\n",
       "    </tr>\n",
       "  </thead>\n",
       "  <tbody>\n",
       "    <tr>\n",
       "      <td>0</td>\n",
       "      <td>0</td>\n",
       "      <td>1</td>\n",
       "      <td>2</td>\n",
       "      <td>What is the step by step guide to invest in sh...</td>\n",
       "      <td>What is the step by step guide to invest in sh...</td>\n",
       "      <td>0</td>\n",
       "    </tr>\n",
       "    <tr>\n",
       "      <td>1</td>\n",
       "      <td>1</td>\n",
       "      <td>3</td>\n",
       "      <td>4</td>\n",
       "      <td>What is the story of Kohinoor (Koh-i-Noor) Dia...</td>\n",
       "      <td>What would happen if the Indian government sto...</td>\n",
       "      <td>0</td>\n",
       "    </tr>\n",
       "    <tr>\n",
       "      <td>2</td>\n",
       "      <td>2</td>\n",
       "      <td>5</td>\n",
       "      <td>6</td>\n",
       "      <td>How can I increase the speed of my internet co...</td>\n",
       "      <td>How can Internet speed be increased by hacking...</td>\n",
       "      <td>0</td>\n",
       "    </tr>\n",
       "    <tr>\n",
       "      <td>3</td>\n",
       "      <td>3</td>\n",
       "      <td>7</td>\n",
       "      <td>8</td>\n",
       "      <td>Why am I mentally very lonely? How can I solve...</td>\n",
       "      <td>Find the remainder when [math]23^{24}[/math] i...</td>\n",
       "      <td>0</td>\n",
       "    </tr>\n",
       "    <tr>\n",
       "      <td>4</td>\n",
       "      <td>4</td>\n",
       "      <td>9</td>\n",
       "      <td>10</td>\n",
       "      <td>Which one dissolve in water quikly sugar, salt...</td>\n",
       "      <td>Which fish would survive in salt water?</td>\n",
       "      <td>0</td>\n",
       "    </tr>\n",
       "  </tbody>\n",
       "</table>\n",
       "</div>"
      ],
      "text/plain": [
       "   id  qid1  qid2                                          question1  \\\n",
       "0   0     1     2  What is the step by step guide to invest in sh...   \n",
       "1   1     3     4  What is the story of Kohinoor (Koh-i-Noor) Dia...   \n",
       "2   2     5     6  How can I increase the speed of my internet co...   \n",
       "3   3     7     8  Why am I mentally very lonely? How can I solve...   \n",
       "4   4     9    10  Which one dissolve in water quikly sugar, salt...   \n",
       "\n",
       "                                           question2  is_duplicate  \n",
       "0  What is the step by step guide to invest in sh...             0  \n",
       "1  What would happen if the Indian government sto...             0  \n",
       "2  How can Internet speed be increased by hacking...             0  \n",
       "3  Find the remainder when [math]23^{24}[/math] i...             0  \n",
       "4            Which fish would survive in salt water?             0  "
      ]
     },
     "execution_count": 106,
     "metadata": {},
     "output_type": "execute_result"
    }
   ],
   "source": [
    "# checking top 5 rows of the data set\n",
    "df.head()"
   ]
  },
  {
   "cell_type": "code",
   "execution_count": 107,
   "metadata": {},
   "outputs": [
    {
     "data": {
      "text/plain": [
       "(404268, 6)"
      ]
     },
     "execution_count": 107,
     "metadata": {},
     "output_type": "execute_result"
    }
   ],
   "source": [
    "# checking data set dimensions\n",
    "df.shape"
   ]
  },
  {
   "cell_type": "markdown",
   "metadata": {},
   "source": [
    "Data set contains 404268 rows and 6 columns"
   ]
  },
  {
   "cell_type": "code",
   "execution_count": 108,
   "metadata": {},
   "outputs": [
    {
     "data": {
      "text/html": [
       "<div>\n",
       "<style scoped>\n",
       "    .dataframe tbody tr th:only-of-type {\n",
       "        vertical-align: middle;\n",
       "    }\n",
       "\n",
       "    .dataframe tbody tr th {\n",
       "        vertical-align: top;\n",
       "    }\n",
       "\n",
       "    .dataframe thead th {\n",
       "        text-align: right;\n",
       "    }\n",
       "</style>\n",
       "<table border=\"1\" class=\"dataframe\">\n",
       "  <thead>\n",
       "    <tr style=\"text-align: right;\">\n",
       "      <th></th>\n",
       "      <th>id</th>\n",
       "      <th>qid1</th>\n",
       "      <th>qid2</th>\n",
       "      <th>is_duplicate</th>\n",
       "    </tr>\n",
       "  </thead>\n",
       "  <tbody>\n",
       "    <tr>\n",
       "      <td>count</td>\n",
       "      <td>404268.000000</td>\n",
       "      <td>404268.000000</td>\n",
       "      <td>404268.000000</td>\n",
       "      <td>404268.000000</td>\n",
       "    </tr>\n",
       "    <tr>\n",
       "      <td>mean</td>\n",
       "      <td>202145.742831</td>\n",
       "      <td>217242.728373</td>\n",
       "      <td>220956.843915</td>\n",
       "      <td>0.369218</td>\n",
       "    </tr>\n",
       "    <tr>\n",
       "      <td>std</td>\n",
       "      <td>116709.092529</td>\n",
       "      <td>157752.240310</td>\n",
       "      <td>159904.683062</td>\n",
       "      <td>0.482594</td>\n",
       "    </tr>\n",
       "    <tr>\n",
       "      <td>min</td>\n",
       "      <td>0.000000</td>\n",
       "      <td>1.000000</td>\n",
       "      <td>2.000000</td>\n",
       "      <td>0.000000</td>\n",
       "    </tr>\n",
       "    <tr>\n",
       "      <td>25%</td>\n",
       "      <td>101072.750000</td>\n",
       "      <td>74435.750000</td>\n",
       "      <td>74727.000000</td>\n",
       "      <td>0.000000</td>\n",
       "    </tr>\n",
       "    <tr>\n",
       "      <td>50%</td>\n",
       "      <td>202145.500000</td>\n",
       "      <td>192179.000000</td>\n",
       "      <td>197052.000000</td>\n",
       "      <td>0.000000</td>\n",
       "    </tr>\n",
       "    <tr>\n",
       "      <td>75%</td>\n",
       "      <td>303220.250000</td>\n",
       "      <td>346574.000000</td>\n",
       "      <td>354695.500000</td>\n",
       "      <td>1.000000</td>\n",
       "    </tr>\n",
       "    <tr>\n",
       "      <td>max</td>\n",
       "      <td>404289.000000</td>\n",
       "      <td>537932.000000</td>\n",
       "      <td>537933.000000</td>\n",
       "      <td>1.000000</td>\n",
       "    </tr>\n",
       "  </tbody>\n",
       "</table>\n",
       "</div>"
      ],
      "text/plain": [
       "                  id           qid1           qid2   is_duplicate\n",
       "count  404268.000000  404268.000000  404268.000000  404268.000000\n",
       "mean   202145.742831  217242.728373  220956.843915       0.369218\n",
       "std    116709.092529  157752.240310  159904.683062       0.482594\n",
       "min         0.000000       1.000000       2.000000       0.000000\n",
       "25%    101072.750000   74435.750000   74727.000000       0.000000\n",
       "50%    202145.500000  192179.000000  197052.000000       0.000000\n",
       "75%    303220.250000  346574.000000  354695.500000       1.000000\n",
       "max    404289.000000  537932.000000  537933.000000       1.000000"
      ]
     },
     "execution_count": 108,
     "metadata": {},
     "output_type": "execute_result"
    }
   ],
   "source": [
    "# checking data summary\n",
    "df.describe()"
   ]
  },
  {
   "cell_type": "code",
   "execution_count": 109,
   "metadata": {},
   "outputs": [
    {
     "name": "stdout",
     "output_type": "stream",
     "text": [
      "<class 'pandas.core.frame.DataFrame'>\n",
      "RangeIndex: 404268 entries, 0 to 404267\n",
      "Data columns (total 6 columns):\n",
      "id              404268 non-null int64\n",
      "qid1            404268 non-null int64\n",
      "qid2            404268 non-null int64\n",
      "question1       404267 non-null object\n",
      "question2       404266 non-null object\n",
      "is_duplicate    404268 non-null int64\n",
      "dtypes: int64(4), object(2)\n",
      "memory usage: 18.5+ MB\n"
     ]
    }
   ],
   "source": [
    "# checking data structure\n",
    "df.info()"
   ]
  },
  {
   "cell_type": "markdown",
   "metadata": {},
   "source": [
    "There are missing vlaues in question1 and question2: 404267 and 404266 respectively out of 404268."
   ]
  },
  {
   "cell_type": "markdown",
   "metadata": {},
   "source": [
    "Target variable exploration: What is the % of duplicate question pairs."
   ]
  },
  {
   "cell_type": "code",
   "execution_count": 110,
   "metadata": {},
   "outputs": [
    {
     "data": {
      "text/plain": [
       "Text(0.5, 1.0, 'Duplicate vs Unique Question Pairs')"
      ]
     },
     "execution_count": 110,
     "metadata": {},
     "output_type": "execute_result"
    },
    {
     "data": {
      "image/png": "[encoded data removed]",
      "text/plain": [
       "<Figure size 432x288 with 1 Axes>"
      ]
     },
     "metadata": {
      "needs_background": "light"
     },
     "output_type": "display_data"
    }
   ],
   "source": [
    "df.groupby(\"is_duplicate\")['id'].count().plot.bar(color=\"grey\").set_title('Duplicate vs Unique Question Pairs', fontsize=15)"
   ]
  },
  {
   "cell_type": "code",
   "execution_count": 111,
   "metadata": {},
   "outputs": [
    {
     "data": {
      "text/plain": [
       "37.0"
      ]
     },
     "execution_count": 111,
     "metadata": {},
     "output_type": "execute_result"
    }
   ],
   "source": [
    "# finding % of duplicate and unique question pairs\n",
    "round(df['is_duplicate'].mean()*100,0)"
   ]
  },
  {
   "cell_type": "markdown",
   "metadata": {},
   "source": [
    "There are 37% of duplicate and 63% of unique question pairs in the training data set.\n"
   ]
  },
  {
   "cell_type": "code",
   "execution_count": 112,
   "metadata": {},
   "outputs": [
    {
     "data": {
      "text/plain": [
       "111772"
      ]
     },
     "execution_count": 112,
     "metadata": {},
     "output_type": "execute_result"
    }
   ],
   "source": [
    "# number of questions that appear more than one time in the data set\n",
    "total_q = pd.Series(df['qid1'].tolist() + df['qid2'].tolist())\n",
    "q_more_than_one = np.sum(total_q.value_counts()>1)\n",
    "q_more_than_one"
   ]
  },
  {
   "cell_type": "code",
   "execution_count": 113,
   "metadata": {},
   "outputs": [
    {
     "data": {
      "text/plain": [
       "20.8"
      ]
     },
     "execution_count": 113,
     "metadata": {},
     "output_type": "execute_result"
    }
   ],
   "source": [
    "# % of questions that appear more than one time in the data set\n",
    "round(q_more_than_one/len(np.unique(total_q))*100,1)"
   ]
  },
  {
   "cell_type": "code",
   "execution_count": 114,
   "metadata": {},
   "outputs": [
    {
     "data": {
      "text/plain": [
       "157"
      ]
     },
     "execution_count": 114,
     "metadata": {},
     "output_type": "execute_result"
    }
   ],
   "source": [
    "# maximum number of times a single question is repeated in the data set\n",
    "max(total_q.value_counts())"
   ]
  },
  {
   "cell_type": "code",
   "execution_count": 115,
   "metadata": {},
   "outputs": [
    {
     "data": {
      "text/plain": [
       "0"
      ]
     },
     "execution_count": 115,
     "metadata": {},
     "output_type": "execute_result"
    }
   ],
   "source": [
    "# ckecking if there are any repeated pairs of questions\n",
    "pair_dupl = df[['qid1','qid2','is_duplicate']].groupby(['qid1','qid2']).count()\n",
    "pair_dupl.shape[0] - df.shape[0]"
   ]
  },
  {
   "cell_type": "code",
   "execution_count": 116,
   "metadata": {},
   "outputs": [
    {
     "data": {
      "text/plain": [
       "Text(0, 0.5, 'Number of Questions')"
      ]
     },
     "execution_count": 116,
     "metadata": {},
     "output_type": "execute_result"
    },
    {
     "data": {
      "image/png": "[encoded data removed]",
      "text/plain": [
       "<Figure size 1440x720 with 1 Axes>"
      ]
     },
     "metadata": {
      "needs_background": "light"
     },
     "output_type": "display_data"
    }
   ],
   "source": [
    "# Number of occurrences of each question\n",
    "plt.figure(figsize = (20,10))\n",
    "plt.hist(total_q.value_counts(), bins = 100, color=\"grey\")\n",
    "plt.yscale('log')\n",
    "plt.title (\"Log Question Frequency Count\")\n",
    "plt.xlabel('Frequency of questions')\n",
    "plt.ylabel('Number of Questions')"
   ]
  },
  {
   "cell_type": "markdown",
   "metadata": {},
   "source": [
    "### Exploring Most Frequent Words in Duplicate and Non-duplicate Question Pairs"
   ]
  },
  {
   "cell_type": "code",
   "execution_count": 117,
   "metadata": {},
   "outputs": [],
   "source": [
    "df_duplicate = df[df['is_duplicate'] == 1]\n",
    "dfp_nonduplicate = df[df['is_duplicate'] == 0]"
   ]
  },
  {
   "cell_type": "code",
   "execution_count": 118,
   "metadata": {},
   "outputs": [],
   "source": [
    "# Converting 2d array of q1 and q2 and flatten the array: like {{1,2},{3,4}} to {1,2,3,4}\n",
    "dupl = np.dstack([df_duplicate[\"question1\"], df_duplicate[\"question2\"]]).flatten()\n",
    "unique = np.dstack([dfp_nonduplicate[\"question1\"], dfp_nonduplicate[\"question2\"]]).flatten()"
   ]
  },
  {
   "cell_type": "code",
   "execution_count": 119,
   "metadata": {},
   "outputs": [],
   "source": [
    "#Saving the np array into a text file\n",
    "np.savetxt('/Users/Olga/train_dup_q.txt', dupl, delimiter=' ', fmt='%s')\n",
    "np.savetxt('/Users/Olga/train_un_q.txt', unique, delimiter=' ', fmt='%s')"
   ]
  },
  {
   "cell_type": "code",
   "execution_count": 120,
   "metadata": {},
   "outputs": [],
   "source": [
    "# reading the text files and removing the Stop Words:\n",
    "from nltk.corpus import stopwords\n",
    "from nltk.corpus import stopwords\n",
    "from wordcloud import WordCloud, STOPWORDS\n",
    "\n",
    "text_dup_q = open('/Users/Olga/train_dup_q.txt').read()\n",
    "textn_un_q = open('/Users/Olga/train_un_q.txt').read()"
   ]
  },
  {
   "cell_type": "markdown",
   "metadata": {},
   "source": [
    "Word Cloud for Duplicate Question pairs"
   ]
  },
  {
   "cell_type": "code",
   "execution_count": 121,
   "metadata": {},
   "outputs": [
    {
     "data": {
      "image/png": "[encoded data removed]",
      "text/plain": [
       "<Figure size 432x288 with 1 Axes>"
      ]
     },
     "metadata": {
      "needs_background": "light"
     },
     "output_type": "display_data"
    }
   ],
   "source": [
    "wc = WordCloud(max_words=len(text_dup_q))\n",
    "wc.generate(text_dup_q)\n",
    "plt.imshow(wc, interpolation='bilinear')\n",
    "plt.show()"
   ]
  },
  {
   "cell_type": "markdown",
   "metadata": {},
   "source": [
    "Word Cloud for non-Duplicate Question pairs"
   ]
  },
  {
   "cell_type": "code",
   "execution_count": 122,
   "metadata": {},
   "outputs": [
    {
     "data": {
      "image/png": "[encoded data removed]",
      "text/plain": [
       "<Figure size 432x288 with 1 Axes>"
      ]
     },
     "metadata": {
      "needs_background": "light"
     },
     "output_type": "display_data"
    }
   ],
   "source": [
    "wc = WordCloud(max_words=len(textn_un_q))\n",
    "wc.generate(textn_un_q)\n",
    "plt.imshow(wc, interpolation='bilinear')\n",
    "plt.show()"
   ]
  },
  {
   "cell_type": "markdown",
   "metadata": {},
   "source": [
    "# Data Preparation"
   ]
  },
  {
   "cell_type": "markdown",
   "metadata": {},
   "source": [
    "### Missing Vlaues Check"
   ]
  },
  {
   "cell_type": "code",
   "execution_count": 123,
   "metadata": {},
   "outputs": [
    {
     "data": {
      "text/html": [
       "<div>\n",
       "<style scoped>\n",
       "    .dataframe tbody tr th:only-of-type {\n",
       "        vertical-align: middle;\n",
       "    }\n",
       "\n",
       "    .dataframe tbody tr th {\n",
       "        vertical-align: top;\n",
       "    }\n",
       "\n",
       "    .dataframe thead th {\n",
       "        text-align: right;\n",
       "    }\n",
       "</style>\n",
       "<table border=\"1\" class=\"dataframe\">\n",
       "  <thead>\n",
       "    <tr style=\"text-align: right;\">\n",
       "      <th></th>\n",
       "      <th>id</th>\n",
       "      <th>qid1</th>\n",
       "      <th>qid2</th>\n",
       "      <th>question1</th>\n",
       "      <th>question2</th>\n",
       "      <th>is_duplicate</th>\n",
       "    </tr>\n",
       "  </thead>\n",
       "  <tbody>\n",
       "    <tr>\n",
       "      <td>105773</td>\n",
       "      <td>105780</td>\n",
       "      <td>174363</td>\n",
       "      <td>174364</td>\n",
       "      <td>How can I develop android app?</td>\n",
       "      <td>NaN</td>\n",
       "      <td>0</td>\n",
       "    </tr>\n",
       "    <tr>\n",
       "      <td>201829</td>\n",
       "      <td>201841</td>\n",
       "      <td>303951</td>\n",
       "      <td>174364</td>\n",
       "      <td>How can I create an Android app?</td>\n",
       "      <td>NaN</td>\n",
       "      <td>0</td>\n",
       "    </tr>\n",
       "    <tr>\n",
       "      <td>363342</td>\n",
       "      <td>363362</td>\n",
       "      <td>493340</td>\n",
       "      <td>493341</td>\n",
       "      <td>NaN</td>\n",
       "      <td>My Chinese name is Haichao Yu. What English na...</td>\n",
       "      <td>0</td>\n",
       "    </tr>\n",
       "  </tbody>\n",
       "</table>\n",
       "</div>"
      ],
      "text/plain": [
       "            id    qid1    qid2                         question1  \\\n",
       "105773  105780  174363  174364    How can I develop android app?   \n",
       "201829  201841  303951  174364  How can I create an Android app?   \n",
       "363342  363362  493340  493341                               NaN   \n",
       "\n",
       "                                                question2  is_duplicate  \n",
       "105773                                                NaN             0  \n",
       "201829                                                NaN             0  \n",
       "363342  My Chinese name is Haichao Yu. What English na...             0  "
      ]
     },
     "execution_count": 123,
     "metadata": {},
     "output_type": "execute_result"
    }
   ],
   "source": [
    "# checking missing values\n",
    "df[df.isnull().any(1)]"
   ]
  },
  {
   "cell_type": "code",
   "execution_count": 124,
   "metadata": {},
   "outputs": [
    {
     "data": {
      "text/html": [
       "<div>\n",
       "<style scoped>\n",
       "    .dataframe tbody tr th:only-of-type {\n",
       "        vertical-align: middle;\n",
       "    }\n",
       "\n",
       "    .dataframe tbody tr th {\n",
       "        vertical-align: top;\n",
       "    }\n",
       "\n",
       "    .dataframe thead th {\n",
       "        text-align: right;\n",
       "    }\n",
       "</style>\n",
       "<table border=\"1\" class=\"dataframe\">\n",
       "  <thead>\n",
       "    <tr style=\"text-align: right;\">\n",
       "      <th></th>\n",
       "      <th>id</th>\n",
       "      <th>qid1</th>\n",
       "      <th>qid2</th>\n",
       "      <th>question1</th>\n",
       "      <th>question2</th>\n",
       "      <th>is_duplicate</th>\n",
       "    </tr>\n",
       "  </thead>\n",
       "  <tbody>\n",
       "  </tbody>\n",
       "</table>\n",
       "</div>"
      ],
      "text/plain": [
       "Empty DataFrame\n",
       "Columns: [id, qid1, qid2, question1, question2, is_duplicate]\n",
       "Index: []"
      ]
     },
     "execution_count": 124,
     "metadata": {},
     "output_type": "execute_result"
    }
   ],
   "source": [
    "# replacing NULL values with space\n",
    "df = df.fillna('')\n",
    "df[df.isnull().any(1)]"
   ]
  },
  {
   "cell_type": "markdown",
   "metadata": {},
   "source": [
    "#### Selecting Random Balanced Subsample (n = 100000)"
   ]
  },
  {
   "cell_type": "code",
   "execution_count": 125,
   "metadata": {},
   "outputs": [
    {
     "data": {
      "text/plain": [
       "(100000, 6)"
      ]
     },
     "execution_count": 125,
     "metadata": {},
     "output_type": "execute_result"
    },
    {
     "data": {
      "image/png": "[encoded data removed]",
      "text/plain": [
       "<Figure size 432x288 with 1 Axes>"
      ]
     },
     "metadata": {
      "needs_background": "light"
     },
     "output_type": "display_data"
    }
   ],
   "source": [
    "df = df.groupby('is_duplicate',as_index = False,group_keys=False).apply(lambda s: s.sample(50000,replace=True,random_state = 123))\n",
    "df.shape\n",
    "df.groupby(\"is_duplicate\")['id'].count().plot.bar(color=\"grey\").set_title('Duplicate vs Unique Question Pairs', fontsize=15)\n",
    "df.head()\n",
    "df.shape"
   ]
  },
  {
   "cell_type": "markdown",
   "metadata": {},
   "source": [
    "### Pre-processing of Text "
   ]
  },
  {
   "cell_type": "code",
   "execution_count": 126,
   "metadata": {},
   "outputs": [],
   "source": [
    "# source: https://www.kaggle.com/currie32/the-importance-of-cleaning-text\n",
    "from nltk.stem import SnowballStemmer\n",
    "from nltk.stem import WordNetLemmatizer \n",
    "\n",
    "def clean(text, stem_words=True):\n",
    "    import re\n",
    "    from string import punctuation\n",
    "\n",
    "    # Clean the text\n",
    "    text = re.sub(r\"[^A-Za-z0-9]\", \" \", text)\n",
    "    text = re.sub(r\"what's\", \"\", text)\n",
    "    text = re.sub(r\"What's\", \"\", text)\n",
    "    text = re.sub(r\"\\'s\", \" \", text)\n",
    "    text = re.sub(r\"\\'ve\", \" have \", text)\n",
    "    text = re.sub(r\"can't\", \"cannot \", text)\n",
    "    text = re.sub(r\"n't\", \" not \", text)\n",
    "    text = re.sub(r\"I'm\", \"I am\", text)\n",
    "    text = re.sub(r\" m \", \" am \", text)\n",
    "    text = re.sub(r\"\\'re\", \" are \", text)\n",
    "    text = re.sub(r\"\\'d\", \" would \", text)\n",
    "    text = re.sub(r\"\\'ll\", \" will \", text)\n",
    "    text = re.sub(r\"60k\", \" 60000 \", text)\n",
    "    text = re.sub(r\" e g \", \" eg \", text)\n",
    "    text = re.sub(r\" b g \", \" bg \", text)\n",
    "    text = re.sub(r\"\\0s\", \"0\", text)\n",
    "    text = re.sub(r\" 9 11 \", \"911\", text)\n",
    "    text = re.sub(r\"e-mail\", \"email\", text)\n",
    "    text = re.sub(r\"\\s{2,}\", \" \", text)\n",
    "    text = re.sub(r\"quikly\", \"quickly\", text)\n",
    "    text = re.sub(r\" usa \", \" America \", text)\n",
    "    text = re.sub(r\" USA \", \" America \", text)\n",
    "    text = re.sub(r\" u s \", \" America \", text)\n",
    "    text = re.sub(r\" uk \", \" England \", text)\n",
    "    text = re.sub(r\" UK \", \" England \", text)\n",
    "    text = re.sub(r\"india\", \"India\", text)\n",
    "    text = re.sub(r\"switzerland\", \"Switzerland\", text)\n",
    "    text = re.sub(r\"china\", \"China\", text)\n",
    "    text = re.sub(r\"chinese\", \"Chinese\", text) \n",
    "    text = re.sub(r\"imrovement\", \"improvement\", text)\n",
    "    text = re.sub(r\"intially\", \"initially\", text)\n",
    "    text = re.sub(r\"quora\", \"Quora\", text)\n",
    "    text = re.sub(r\" dms \", \"direct messages \", text)  \n",
    "    text = re.sub(r\"demonitization\", \"demonetization\", text) \n",
    "    text = re.sub(r\"actived\", \"active\", text)\n",
    "    text = re.sub(r\"kms\", \" kilometers \", text)\n",
    "    text = re.sub(r\"KMs\", \" kilometers \", text)\n",
    "    text = re.sub(r\" cs \", \" computer science \", text) \n",
    "    text = re.sub(r\" upvotes \", \" up votes \", text)\n",
    "    text = re.sub(r\" iPhone \", \" phone \", text)\n",
    "    text = re.sub(r\"\\0rs \", \" rs \", text) \n",
    "    text = re.sub(r\"calender\", \"calendar\", text)\n",
    "    text = re.sub(r\"ios\", \"operating system\", text)\n",
    "    text = re.sub(r\"gps\", \"GPS\", text)\n",
    "    text = re.sub(r\"gst\", \"GST\", text)\n",
    "    text = re.sub(r\"programing\", \"programming\", text)\n",
    "    text = re.sub(r\"bestfriend\", \"best friend\", text)\n",
    "    text = re.sub(r\"dna\", \"DNA\", text)\n",
    "    text = re.sub(r\"III\", \"3\", text) \n",
    "    text = re.sub(r\"the US\", \"America\", text)\n",
    "    text = re.sub(r\"Astrology\", \"astrology\", text)\n",
    "    text = re.sub(r\"Method\", \"method\", text)\n",
    "    text = re.sub(r\"Find\", \"find\", text) \n",
    "    text = re.sub(r\"banglore\", \"Banglore\", text)\n",
    "    text = re.sub(r\" J K \", \" JK \", text)\n",
    "    # remove comma between numbers, i.e. 15,000 -> 15000\n",
    "    text = re.sub('(?<=[0-9])\\,(?=[0-9])', \"\", text)\n",
    "    text = re.sub('\\$', \" dollar \", text)\n",
    "    text = re.sub('\\%', \" percent \", text)\n",
    "    text = re.sub('\\&', \" and \", text)\n",
    "    # indian dollar\n",
    "    text = re.sub(\"(?<=[0-9])rs \", \" rs \", text, flags=re.IGNORECASE)\n",
    "    text = re.sub(\" rs(?=[0-9])\", \" rs \", text, flags=re.IGNORECASE)\n",
    "    text = re.sub(r\" (the[\\s]+|The[\\s]+)?US(A)? \", \" America \", text)\n",
    "    text = re.sub(r\" UK \", \" England \", text, flags=re.IGNORECASE)\n",
    "    # replace the float numbers with a random number, it will be parsed as number afterward, and also been replaced with word \"number\"\n",
    "    text = re.sub('[0-9]+\\.[0-9]+', \" 87 \", text)\n",
    "    # Remove punctuation from text\n",
    "    text = ''.join([c for c in text if c not in punctuation]).lower()\n",
    "    \n",
    "    # Optionally, remove stop words\n",
    "#     if remove_stop_words:\n",
    "#         text = text.split()\n",
    "#         text = [w for w in text if not w in stop_words]\n",
    "#         text = \" \".join(text)\n",
    "    \n",
    "    # Optionally, shorten words to their stems\n",
    "#     if lem_words:\n",
    "#         text = text.split()\n",
    "#         lem = WordNetLemmatizer()\n",
    "#         lem_words = [lem.lemmatize(word) for word in text]\n",
    "#         text = \" \".join(lem_words)\n",
    "    return text\n",
    "    \n",
    "df['question1'] = df['question1'].apply(clean)\n",
    "df['question2'] = df['question2'].apply(clean)"
   ]
  },
  {
   "cell_type": "code",
   "execution_count": 127,
   "metadata": {},
   "outputs": [
    {
     "data": {
      "text/html": [
       "<div>\n",
       "<style scoped>\n",
       "    .dataframe tbody tr th:only-of-type {\n",
       "        vertical-align: middle;\n",
       "    }\n",
       "\n",
       "    .dataframe tbody tr th {\n",
       "        vertical-align: top;\n",
       "    }\n",
       "\n",
       "    .dataframe thead th {\n",
       "        text-align: right;\n",
       "    }\n",
       "</style>\n",
       "<table border=\"1\" class=\"dataframe\">\n",
       "  <thead>\n",
       "    <tr style=\"text-align: right;\">\n",
       "      <th></th>\n",
       "      <th>id</th>\n",
       "      <th>qid1</th>\n",
       "      <th>qid2</th>\n",
       "      <th>question1</th>\n",
       "      <th>question2</th>\n",
       "      <th>is_duplicate</th>\n",
       "    </tr>\n",
       "  </thead>\n",
       "  <tbody>\n",
       "    <tr>\n",
       "      <td>395627</td>\n",
       "      <td>395648</td>\n",
       "      <td>494699</td>\n",
       "      <td>528639</td>\n",
       "      <td>does crow see from just one eye</td>\n",
       "      <td>how far can one see with the naked eye how is ...</td>\n",
       "      <td>0</td>\n",
       "    </tr>\n",
       "    <tr>\n",
       "      <td>25052</td>\n",
       "      <td>25054</td>\n",
       "      <td>46729</td>\n",
       "      <td>46730</td>\n",
       "      <td>how do i unblock fortiguard application control</td>\n",
       "      <td>how can i unblock torrents</td>\n",
       "      <td>0</td>\n",
       "    </tr>\n",
       "    <tr>\n",
       "      <td>44746</td>\n",
       "      <td>44749</td>\n",
       "      <td>80277</td>\n",
       "      <td>80278</td>\n",
       "      <td>how can i make money off bitcoin</td>\n",
       "      <td>can you make money with bitcoin</td>\n",
       "      <td>0</td>\n",
       "    </tr>\n",
       "    <tr>\n",
       "      <td>28221</td>\n",
       "      <td>28223</td>\n",
       "      <td>52353</td>\n",
       "      <td>52354</td>\n",
       "      <td>who is the head of immigration officer of mala...</td>\n",
       "      <td>how do avascular plants and vascular plants di...</td>\n",
       "      <td>0</td>\n",
       "    </tr>\n",
       "    <tr>\n",
       "      <td>306360</td>\n",
       "      <td>306380</td>\n",
       "      <td>429895</td>\n",
       "      <td>429896</td>\n",
       "      <td>what is ionizing radiation</td>\n",
       "      <td>can you feel ionizing radiation</td>\n",
       "      <td>0</td>\n",
       "    </tr>\n",
       "  </tbody>\n",
       "</table>\n",
       "</div>"
      ],
      "text/plain": [
       "            id    qid1    qid2  \\\n",
       "395627  395648  494699  528639   \n",
       "25052    25054   46729   46730   \n",
       "44746    44749   80277   80278   \n",
       "28221    28223   52353   52354   \n",
       "306360  306380  429895  429896   \n",
       "\n",
       "                                                question1  \\\n",
       "395627                   does crow see from just one eye    \n",
       "25052    how do i unblock fortiguard application control    \n",
       "44746                   how can i make money off bitcoin    \n",
       "28221   who is the head of immigration officer of mala...   \n",
       "306360                        what is ionizing radiation    \n",
       "\n",
       "                                                question2  is_duplicate  \n",
       "395627  how far can one see with the naked eye how is ...             0  \n",
       "25052                         how can i unblock torrents              0  \n",
       "44746                    can you make money with bitcoin              0  \n",
       "28221   how do avascular plants and vascular plants di...             0  \n",
       "306360                   can you feel ionizing radiation              0  "
      ]
     },
     "execution_count": 127,
     "metadata": {},
     "output_type": "execute_result"
    }
   ],
   "source": [
    "df.head()"
   ]
  },
  {
   "cell_type": "code",
   "execution_count": 130,
   "metadata": {},
   "outputs": [],
   "source": [
    "# to save data frame to csv\n",
    "# df.to_csv('data_clean.csv')"
   ]
  },
  {
   "cell_type": "markdown",
   "metadata": {},
   "source": [
    "## Feature Engineering"
   ]
  },
  {
   "cell_type": "markdown",
   "metadata": {},
   "source": [
    "### Basic Feature Engeneering"
   ]
  },
  {
   "cell_type": "markdown",
   "metadata": {},
   "source": [
    "num_words_q1 = Number of words in Question 1\n",
    "  \n",
    "num_words_q2 = Number of words in Question 2\n",
    "\n",
    "len_q1 = Length of Q1\n",
    "  \n",
    "len_q2 = Length of Q2\n",
    "\n",
    "common_words = Number of common unique words in Question 1 and Question 2\n",
    "  \n",
    "total_words = number of words in Q1 + number of words in Q2\n",
    "  \n",
    "word_share = (common_words)/(total_words)\n",
    "  \n",
    " note:  token = word + stop_word\n",
    "\n",
    "cw_min = common_words/min lenghth of word count of Q1 and Q2\n",
    "\n",
    "cw_max = common_words/ max lenghth of word count of Q1 and Q2\n",
    "\n",
    "cs_min = common_stop/ min lenghth of stop count of Q1 and Q2\n",
    "\n",
    "cs_max = common_stop/ max lenghth of stop count of Q1 and Q2\n",
    "\n",
    "ct_min = common_token/min lenghth of token count of Q1 and Q2\n",
    "\n",
    "ct_max = common_token/max lenghth of token count of Q1 and Q2\n",
    "\n",
    "token_len_abs = absolute token length difference\n",
    "\n",
    "token_len_avg = Average Token Length of both Questions"
   ]
  },
  {
   "cell_type": "code",
   "execution_count": 131,
   "metadata": {},
   "outputs": [],
   "source": [
    "#   number of words   \n",
    "df['num_words_q1'] = df['question1'].apply(lambda row: len(row.split(\" \")))\n",
    "df['num_words_q2'] = df['question2'].apply(lambda row: len(row.split(\" \")))\n",
    "\n",
    "# question length\n",
    "df['len_q1'] = df['question1'].str.len() \n",
    "df['len_q2'] = df['question2'].str.len()\n",
    "\n",
    "# common words in Q1 and Q2\n",
    "def cw(row):\n",
    "    cw_q1 = set(map(lambda word: word.lower().strip(), row['question1'].split(\" \")))\n",
    "    cw_q2 = set(map(lambda word: word.lower().strip(), row['question2'].split(\" \")))    \n",
    "    return len(cw_q1 & cw_q2)\n",
    "\n",
    "def wt(row):\n",
    "    wt1 = set(map(lambda word: word.lower().strip(), row['question1'].split(\" \")))\n",
    "    wt2 = set(map(lambda word: word.lower().strip(), row['question2'].split(\" \")))    \n",
    "    return (len(wt1) + len(wt2))\n",
    "\n",
    "def ws(row):\n",
    "    ws1 = set(map(lambda word: word.lower().strip(), row['question1'].split(\" \")))\n",
    "    ws2 = set(map(lambda word: word.lower().strip(), row['question2'].split(\" \")))    \n",
    "    return len(ws1 & ws2)/(len(ws1) + len(ws2))\n",
    "df['word_share'] = df.apply(ws, axis=1)\n"
   ]
  },
  {
   "cell_type": "code",
   "execution_count": 132,
   "metadata": {},
   "outputs": [],
   "source": [
    "def features(q1, q2):\n",
    "    token_features = [0.0]*10\n",
    "    \n",
    "    # converting the Sentence into Tokens: \n",
    "    q1_tokens = q1.split()\n",
    "    q2_tokens = q2.split()    \n",
    "    if len(q1_tokens) == 0 or len(q2_tokens) == 0:\n",
    "        return token_features\n",
    "    \n",
    "    \n",
    "    # getting non-stopwords\n",
    "    q1_words = set([word for word in q1_tokens if word not in STOP_WORDS])\n",
    "    q2_words = set([word for word in q2_tokens if word not in STOP_WORDS])\n",
    "    \n",
    "    #getting stopwords\n",
    "    q1_stops = set([word for word in q1_tokens if word in STOP_WORDS])\n",
    "    q2_stops = set([word for word in q2_tokens if word in STOP_WORDS])\n",
    "    \n",
    "    # getting common non-stopwords\n",
    "    common_word = len(q1_words.intersection(q2_words))\n",
    "    \n",
    "    # getting common stopwords\n",
    "    common_stop = len(q1_stops.intersection(q2_stops))\n",
    "    \n",
    "    # getting common tokens\n",
    "    common_token = len(set(q1_tokens).intersection(set(q2_tokens)))\n",
    "    \n",
    "    #  getting word lenght\n",
    "    w_min_len = min(len(q1_words), len(q2_words))\n",
    "    w_max_len = max(len(q1_words), len(q2_words))\n",
    "                    \n",
    "    #  getting word lenght        \n",
    "        \n",
    "    token_features[0] = common_word / ((w_min_len)+0.000000001)\n",
    "    token_features[1] = common_word / ((w_max_len)+0.000000001)\n",
    "    token_features[2] = common_stop / ((min(len(q1_stops), len(q2_stops))+0.000000001))\n",
    "    token_features[3] = common_stop / ((max(len(q1_stops), len(q2_stops))+0.000000001))\n",
    "    token_features[4] = common_token / ((min(len(q1_tokens), len(q2_tokens))+0.000000001))\n",
    "    token_features[5] = common_token / ((max(len(q1_tokens), len(q2_tokens))+0.000000001))\n",
    "\n",
    "    # getting absolute lenght of two tokens    \n",
    "    token_features[6] = abs(len(q1_tokens) - len(q2_tokens))\n",
    "    \n",
    "    #Average token length \n",
    "    token_features[7] = (len(q1_tokens) + len(q2_tokens))/2\n",
    "    return token_features\n",
    "\n",
    "# get the Longest Common sub string"
   ]
  },
  {
   "cell_type": "code",
   "execution_count": 133,
   "metadata": {},
   "outputs": [],
   "source": [
    "from nltk.corpus import stopwords\n",
    "STOP_WORDS = stopwords.words(\"english\")\n",
    "def extract_features(df):\n",
    "    \n",
    "    # merging features with dataset\n",
    "    \n",
    "    token_features = df.apply(lambda x: features(x[\"question1\"], x[\"question2\"]), axis=1)\n",
    "    \n",
    "    df[\"cw_min\"]       = list(map(lambda x: x[0], token_features))\n",
    "    df[\"cw_max\"]       = list(map(lambda x: x[1], token_features))\n",
    "    df[\"cs_min\"]       = list(map(lambda x: x[2], token_features))\n",
    "    df[\"cs_max\"]       = list(map(lambda x: x[3], token_features))\n",
    "    df[\"ct_min\"]       = list(map(lambda x: x[4], token_features))\n",
    "    df[\"ct_max\"]       = list(map(lambda x: x[5], token_features))\n",
    "    df[\"token_len_abs\"] = list(map(lambda x: x[6], token_features))\n",
    "    df[\"token_len_avg\"] = list(map(lambda x: x[7], token_features))\n",
    "    \n",
    "extract_features(df)"
   ]
  },
  {
   "cell_type": "code",
   "execution_count": 134,
   "metadata": {},
   "outputs": [
    {
     "data": {
      "text/html": [
       "<div>\n",
       "<style scoped>\n",
       "    .dataframe tbody tr th:only-of-type {\n",
       "        vertical-align: middle;\n",
       "    }\n",
       "\n",
       "    .dataframe tbody tr th {\n",
       "        vertical-align: top;\n",
       "    }\n",
       "\n",
       "    .dataframe thead th {\n",
       "        text-align: right;\n",
       "    }\n",
       "</style>\n",
       "<table border=\"1\" class=\"dataframe\">\n",
       "  <thead>\n",
       "    <tr style=\"text-align: right;\">\n",
       "      <th></th>\n",
       "      <th>id</th>\n",
       "      <th>qid1</th>\n",
       "      <th>qid2</th>\n",
       "      <th>question1</th>\n",
       "      <th>question2</th>\n",
       "      <th>is_duplicate</th>\n",
       "      <th>num_words_q1</th>\n",
       "      <th>num_words_q2</th>\n",
       "      <th>len_q1</th>\n",
       "      <th>len_q2</th>\n",
       "      <th>word_share</th>\n",
       "      <th>cw_min</th>\n",
       "      <th>cw_max</th>\n",
       "      <th>cs_min</th>\n",
       "      <th>cs_max</th>\n",
       "      <th>ct_min</th>\n",
       "      <th>ct_max</th>\n",
       "      <th>token_len_abs</th>\n",
       "      <th>token_len_avg</th>\n",
       "    </tr>\n",
       "  </thead>\n",
       "  <tbody>\n",
       "    <tr>\n",
       "      <td>395627</td>\n",
       "      <td>395648</td>\n",
       "      <td>494699</td>\n",
       "      <td>528639</td>\n",
       "      <td>does crow see from just one eye</td>\n",
       "      <td>how far can one see with the naked eye how is ...</td>\n",
       "      <td>0</td>\n",
       "      <td>8</td>\n",
       "      <td>14</td>\n",
       "      <td>32</td>\n",
       "      <td>62</td>\n",
       "      <td>0.190476</td>\n",
       "      <td>0.75</td>\n",
       "      <td>0.500000</td>\n",
       "      <td>0.000000</td>\n",
       "      <td>0.000000</td>\n",
       "      <td>0.428571</td>\n",
       "      <td>0.230769</td>\n",
       "      <td>6.0</td>\n",
       "      <td>10.0</td>\n",
       "    </tr>\n",
       "    <tr>\n",
       "      <td>25052</td>\n",
       "      <td>25054</td>\n",
       "      <td>46729</td>\n",
       "      <td>46730</td>\n",
       "      <td>how do i unblock fortiguard application control</td>\n",
       "      <td>how can i unblock torrents</td>\n",
       "      <td>0</td>\n",
       "      <td>8</td>\n",
       "      <td>6</td>\n",
       "      <td>48</td>\n",
       "      <td>27</td>\n",
       "      <td>0.285714</td>\n",
       "      <td>0.50</td>\n",
       "      <td>0.250000</td>\n",
       "      <td>0.666667</td>\n",
       "      <td>0.666667</td>\n",
       "      <td>0.600000</td>\n",
       "      <td>0.428571</td>\n",
       "      <td>2.0</td>\n",
       "      <td>6.0</td>\n",
       "    </tr>\n",
       "    <tr>\n",
       "      <td>44746</td>\n",
       "      <td>44749</td>\n",
       "      <td>80277</td>\n",
       "      <td>80278</td>\n",
       "      <td>how can i make money off bitcoin</td>\n",
       "      <td>can you make money with bitcoin</td>\n",
       "      <td>0</td>\n",
       "      <td>8</td>\n",
       "      <td>7</td>\n",
       "      <td>33</td>\n",
       "      <td>32</td>\n",
       "      <td>0.333333</td>\n",
       "      <td>1.00</td>\n",
       "      <td>1.000000</td>\n",
       "      <td>0.333333</td>\n",
       "      <td>0.250000</td>\n",
       "      <td>0.666667</td>\n",
       "      <td>0.571429</td>\n",
       "      <td>1.0</td>\n",
       "      <td>6.5</td>\n",
       "    </tr>\n",
       "    <tr>\n",
       "      <td>28221</td>\n",
       "      <td>28223</td>\n",
       "      <td>52353</td>\n",
       "      <td>52354</td>\n",
       "      <td>who is the head of immigration officer of mala...</td>\n",
       "      <td>how do avascular plants and vascular plants di...</td>\n",
       "      <td>0</td>\n",
       "      <td>10</td>\n",
       "      <td>9</td>\n",
       "      <td>51</td>\n",
       "      <td>51</td>\n",
       "      <td>0.058824</td>\n",
       "      <td>0.00</td>\n",
       "      <td>0.000000</td>\n",
       "      <td>0.000000</td>\n",
       "      <td>0.000000</td>\n",
       "      <td>0.000000</td>\n",
       "      <td>0.000000</td>\n",
       "      <td>1.0</td>\n",
       "      <td>8.5</td>\n",
       "    </tr>\n",
       "    <tr>\n",
       "      <td>306360</td>\n",
       "      <td>306380</td>\n",
       "      <td>429895</td>\n",
       "      <td>429896</td>\n",
       "      <td>what is ionizing radiation</td>\n",
       "      <td>can you feel ionizing radiation</td>\n",
       "      <td>0</td>\n",
       "      <td>5</td>\n",
       "      <td>6</td>\n",
       "      <td>27</td>\n",
       "      <td>32</td>\n",
       "      <td>0.272727</td>\n",
       "      <td>1.00</td>\n",
       "      <td>0.666667</td>\n",
       "      <td>0.000000</td>\n",
       "      <td>0.000000</td>\n",
       "      <td>0.500000</td>\n",
       "      <td>0.400000</td>\n",
       "      <td>1.0</td>\n",
       "      <td>4.5</td>\n",
       "    </tr>\n",
       "  </tbody>\n",
       "</table>\n",
       "</div>"
      ],
      "text/plain": [
       "            id    qid1    qid2  \\\n",
       "395627  395648  494699  528639   \n",
       "25052    25054   46729   46730   \n",
       "44746    44749   80277   80278   \n",
       "28221    28223   52353   52354   \n",
       "306360  306380  429895  429896   \n",
       "\n",
       "                                                question1  \\\n",
       "395627                   does crow see from just one eye    \n",
       "25052    how do i unblock fortiguard application control    \n",
       "44746                   how can i make money off bitcoin    \n",
       "28221   who is the head of immigration officer of mala...   \n",
       "306360                        what is ionizing radiation    \n",
       "\n",
       "                                                question2  is_duplicate  \\\n",
       "395627  how far can one see with the naked eye how is ...             0   \n",
       "25052                         how can i unblock torrents              0   \n",
       "44746                    can you make money with bitcoin              0   \n",
       "28221   how do avascular plants and vascular plants di...             0   \n",
       "306360                   can you feel ionizing radiation              0   \n",
       "\n",
       "        num_words_q1  num_words_q2  len_q1  len_q2  word_share  cw_min  \\\n",
       "395627             8            14      32      62    0.190476    0.75   \n",
       "25052              8             6      48      27    0.285714    0.50   \n",
       "44746              8             7      33      32    0.333333    1.00   \n",
       "28221             10             9      51      51    0.058824    0.00   \n",
       "306360             5             6      27      32    0.272727    1.00   \n",
       "\n",
       "          cw_max    cs_min    cs_max    ct_min    ct_max  token_len_abs  \\\n",
       "395627  0.500000  0.000000  0.000000  0.428571  0.230769            6.0   \n",
       "25052   0.250000  0.666667  0.666667  0.600000  0.428571            2.0   \n",
       "44746   1.000000  0.333333  0.250000  0.666667  0.571429            1.0   \n",
       "28221   0.000000  0.000000  0.000000  0.000000  0.000000            1.0   \n",
       "306360  0.666667  0.000000  0.000000  0.500000  0.400000            1.0   \n",
       "\n",
       "        token_len_avg  \n",
       "395627           10.0  \n",
       "25052             6.0  \n",
       "44746             6.5  \n",
       "28221             8.5  \n",
       "306360            4.5  "
      ]
     },
     "execution_count": 134,
     "metadata": {},
     "output_type": "execute_result"
    }
   ],
   "source": [
    "df.head()"
   ]
  },
  {
   "cell_type": "code",
   "execution_count": 135,
   "metadata": {},
   "outputs": [],
   "source": [
    "df_basic_features = df.drop(['id','qid1', 'qid2', 'question1', 'question2'], axis=1)"
   ]
  },
  {
   "cell_type": "code",
   "execution_count": 136,
   "metadata": {},
   "outputs": [
    {
     "data": {
      "text/html": [
       "<div>\n",
       "<style scoped>\n",
       "    .dataframe tbody tr th:only-of-type {\n",
       "        vertical-align: middle;\n",
       "    }\n",
       "\n",
       "    .dataframe tbody tr th {\n",
       "        vertical-align: top;\n",
       "    }\n",
       "\n",
       "    .dataframe thead th {\n",
       "        text-align: right;\n",
       "    }\n",
       "</style>\n",
       "<table border=\"1\" class=\"dataframe\">\n",
       "  <thead>\n",
       "    <tr style=\"text-align: right;\">\n",
       "      <th></th>\n",
       "      <th>is_duplicate</th>\n",
       "      <th>num_words_q1</th>\n",
       "      <th>num_words_q2</th>\n",
       "      <th>len_q1</th>\n",
       "      <th>len_q2</th>\n",
       "      <th>word_share</th>\n",
       "      <th>cw_min</th>\n",
       "      <th>cw_max</th>\n",
       "      <th>cs_min</th>\n",
       "      <th>cs_max</th>\n",
       "      <th>ct_min</th>\n",
       "      <th>ct_max</th>\n",
       "      <th>token_len_abs</th>\n",
       "      <th>token_len_avg</th>\n",
       "    </tr>\n",
       "  </thead>\n",
       "  <tbody>\n",
       "    <tr>\n",
       "      <td>395627</td>\n",
       "      <td>0</td>\n",
       "      <td>8</td>\n",
       "      <td>14</td>\n",
       "      <td>32</td>\n",
       "      <td>62</td>\n",
       "      <td>0.190476</td>\n",
       "      <td>0.75</td>\n",
       "      <td>0.500000</td>\n",
       "      <td>0.000000</td>\n",
       "      <td>0.000000</td>\n",
       "      <td>0.428571</td>\n",
       "      <td>0.230769</td>\n",
       "      <td>6.0</td>\n",
       "      <td>10.0</td>\n",
       "    </tr>\n",
       "    <tr>\n",
       "      <td>25052</td>\n",
       "      <td>0</td>\n",
       "      <td>8</td>\n",
       "      <td>6</td>\n",
       "      <td>48</td>\n",
       "      <td>27</td>\n",
       "      <td>0.285714</td>\n",
       "      <td>0.50</td>\n",
       "      <td>0.250000</td>\n",
       "      <td>0.666667</td>\n",
       "      <td>0.666667</td>\n",
       "      <td>0.600000</td>\n",
       "      <td>0.428571</td>\n",
       "      <td>2.0</td>\n",
       "      <td>6.0</td>\n",
       "    </tr>\n",
       "    <tr>\n",
       "      <td>44746</td>\n",
       "      <td>0</td>\n",
       "      <td>8</td>\n",
       "      <td>7</td>\n",
       "      <td>33</td>\n",
       "      <td>32</td>\n",
       "      <td>0.333333</td>\n",
       "      <td>1.00</td>\n",
       "      <td>1.000000</td>\n",
       "      <td>0.333333</td>\n",
       "      <td>0.250000</td>\n",
       "      <td>0.666667</td>\n",
       "      <td>0.571429</td>\n",
       "      <td>1.0</td>\n",
       "      <td>6.5</td>\n",
       "    </tr>\n",
       "    <tr>\n",
       "      <td>28221</td>\n",
       "      <td>0</td>\n",
       "      <td>10</td>\n",
       "      <td>9</td>\n",
       "      <td>51</td>\n",
       "      <td>51</td>\n",
       "      <td>0.058824</td>\n",
       "      <td>0.00</td>\n",
       "      <td>0.000000</td>\n",
       "      <td>0.000000</td>\n",
       "      <td>0.000000</td>\n",
       "      <td>0.000000</td>\n",
       "      <td>0.000000</td>\n",
       "      <td>1.0</td>\n",
       "      <td>8.5</td>\n",
       "    </tr>\n",
       "    <tr>\n",
       "      <td>306360</td>\n",
       "      <td>0</td>\n",
       "      <td>5</td>\n",
       "      <td>6</td>\n",
       "      <td>27</td>\n",
       "      <td>32</td>\n",
       "      <td>0.272727</td>\n",
       "      <td>1.00</td>\n",
       "      <td>0.666667</td>\n",
       "      <td>0.000000</td>\n",
       "      <td>0.000000</td>\n",
       "      <td>0.500000</td>\n",
       "      <td>0.400000</td>\n",
       "      <td>1.0</td>\n",
       "      <td>4.5</td>\n",
       "    </tr>\n",
       "  </tbody>\n",
       "</table>\n",
       "</div>"
      ],
      "text/plain": [
       "        is_duplicate  num_words_q1  num_words_q2  len_q1  len_q2  word_share  \\\n",
       "395627             0             8            14      32      62    0.190476   \n",
       "25052              0             8             6      48      27    0.285714   \n",
       "44746              0             8             7      33      32    0.333333   \n",
       "28221              0            10             9      51      51    0.058824   \n",
       "306360             0             5             6      27      32    0.272727   \n",
       "\n",
       "        cw_min    cw_max    cs_min    cs_max    ct_min    ct_max  \\\n",
       "395627    0.75  0.500000  0.000000  0.000000  0.428571  0.230769   \n",
       "25052     0.50  0.250000  0.666667  0.666667  0.600000  0.428571   \n",
       "44746     1.00  1.000000  0.333333  0.250000  0.666667  0.571429   \n",
       "28221     0.00  0.000000  0.000000  0.000000  0.000000  0.000000   \n",
       "306360    1.00  0.666667  0.000000  0.000000  0.500000  0.400000   \n",
       "\n",
       "        token_len_abs  token_len_avg  \n",
       "395627            6.0           10.0  \n",
       "25052             2.0            6.0  \n",
       "44746             1.0            6.5  \n",
       "28221             1.0            8.5  \n",
       "306360            1.0            4.5  "
      ]
     },
     "execution_count": 136,
     "metadata": {},
     "output_type": "execute_result"
    }
   ],
   "source": [
    "df_basic_features.head()"
   ]
  },
  {
   "cell_type": "code",
   "execution_count": 137,
   "metadata": {},
   "outputs": [
    {
     "name": "stderr",
     "output_type": "stream",
     "text": [
      "/Users/Olga/opt/anaconda3/lib/python3.7/site-packages/sklearn/linear_model/_logistic.py:940: ConvergenceWarning:\n",
      "\n",
      "lbfgs failed to converge (status=1):\n",
      "STOP: TOTAL NO. of ITERATIONS REACHED LIMIT.\n",
      "\n",
      "Increase the number of iterations (max_iter) or scale the data as shown in:\n",
      "    https://scikit-learn.org/stable/modules/preprocessing.html\n",
      "Please also refer to the documentation for alternative solver options:\n",
      "    https://scikit-learn.org/stable/modules/linear_model.html#logistic-regression\n",
      "\n",
      "/Users/Olga/opt/anaconda3/lib/python3.7/site-packages/sklearn/linear_model/_logistic.py:940: ConvergenceWarning:\n",
      "\n",
      "lbfgs failed to converge (status=1):\n",
      "STOP: TOTAL NO. of ITERATIONS REACHED LIMIT.\n",
      "\n",
      "Increase the number of iterations (max_iter) or scale the data as shown in:\n",
      "    https://scikit-learn.org/stable/modules/preprocessing.html\n",
      "Please also refer to the documentation for alternative solver options:\n",
      "    https://scikit-learn.org/stable/modules/linear_model.html#logistic-regression\n",
      "\n",
      "/Users/Olga/opt/anaconda3/lib/python3.7/site-packages/sklearn/linear_model/_logistic.py:940: ConvergenceWarning:\n",
      "\n",
      "lbfgs failed to converge (status=1):\n",
      "STOP: TOTAL NO. of ITERATIONS REACHED LIMIT.\n",
      "\n",
      "Increase the number of iterations (max_iter) or scale the data as shown in:\n",
      "    https://scikit-learn.org/stable/modules/preprocessing.html\n",
      "Please also refer to the documentation for alternative solver options:\n",
      "    https://scikit-learn.org/stable/modules/linear_model.html#logistic-regression\n",
      "\n"
     ]
    },
    {
     "name": "stdout",
     "output_type": "stream",
     "text": [
      "LogisticRegression 0.6816286008900398\n",
      "XGBoost 0.7450000219364213\n",
      "RandomForest 0.7432285552015495\n"
     ]
    }
   ],
   "source": [
    "# building models based on basic features\n",
    "from sklearn.model_selection import train_test_split\n",
    "import scipy \n",
    "from sklearn.metrics import f1_score, classification_report, accuracy_score\n",
    "from sklearn.linear_model import LogisticRegression\n",
    "from sklearn.ensemble import RandomForestClassifier\n",
    "from sklearn.model_selection import cross_val_score\n",
    "import xgboost as xgb\n",
    "\n",
    "# spliting data on train and test\n",
    "X = df_basic_features.drop(['is_duplicate'],axis=1)\n",
    "y = df_basic_features['is_duplicate']\n",
    "X_train,X_test,y_train,y_test = train_test_split(X, y , test_size = 0.3, random_state = 123)\n",
    "\n",
    "models = []\n",
    "\n",
    "models.append((\"LogisticRegression\",LogisticRegression()))\n",
    "models.append((\"XGBoost\", xgb.XGBClassifier()))\n",
    "models.append((\"RandomForest\",RandomForestClassifier()))\n",
    "\n",
    "results = []\n",
    "names = []\n",
    "for name,model in models:\n",
    "    result = cross_val_score(model, X_train, y_train,  cv=3)\n",
    "    names.append(name)\n",
    "    results.append(result)\n",
    "\n",
    "for i in range(len(names)):\n",
    "    print(names[i],results[i].mean())\n"
   ]
  },
  {
   "cell_type": "code",
   "execution_count": 138,
   "metadata": {},
   "outputs": [
    {
     "name": "stdout",
     "output_type": "stream",
     "text": [
      "              precision    recall  f1-score   support\n",
      "\n",
      "           0       0.82      0.66      0.73     15137\n",
      "           1       0.71      0.85      0.77     14863\n",
      "\n",
      "    accuracy                           0.75     30000\n",
      "   macro avg       0.76      0.75      0.75     30000\n",
      "weighted avg       0.76      0.75      0.75     30000\n",
      "\n",
      "0.7538518557576921\n"
     ]
    }
   ],
   "source": [
    "from sklearn.metrics import roc_auc_score\n",
    "\n",
    "# build XGboost model\n",
    "xgb_model = xgb.XGBClassifier(max_depth=50, n_estimators=80, learning_rate=0.1, colsample_bytree=.7, gamma=0, reg_alpha=4, objective='binary:logistic', eta=0.3, silent=1, subsample=0.8).fit(X_train, y_train) \n",
    "# making predictions\n",
    "xgb_prediction = xgb_model.predict(X_test)\n",
    "\n",
    "# performance assessment\n",
    "print(classification_report(y_test, xgb_prediction))\n",
    "\n",
    "print(roc_auc_score(y_test, xgb_prediction))"
   ]
  },
  {
   "cell_type": "code",
   "execution_count": 139,
   "metadata": {},
   "outputs": [
    {
     "name": "stdout",
     "output_type": "stream",
     "text": [
      "              precision    recall  f1-score   support\n",
      "\n",
      "           0       0.79      0.70      0.74     15137\n",
      "           1       0.73      0.81      0.77     14863\n",
      "\n",
      "    accuracy                           0.75     30000\n",
      "   macro avg       0.76      0.76      0.75     30000\n",
      "weighted avg       0.76      0.75      0.75     30000\n",
      "\n",
      "0.7553382397485415\n"
     ]
    }
   ],
   "source": [
    "from sklearn.metrics import roc_auc_score\n",
    "\n",
    "# build rf model\n",
    "rf_model = RandomForestClassifier(max_depth=50, n_estimators=80).fit(X_train, y_train) \n",
    "# making predictions\n",
    "rf_prediction = rf_model.predict(X_test)\n",
    "\n",
    "# performance assessment\n",
    "print(classification_report(y_test, rf_prediction))\n",
    "\n",
    "print(roc_auc_score(y_test, rf_prediction))"
   ]
  },
  {
   "cell_type": "markdown",
   "metadata": {},
   "source": [
    "### Fuzzy Logic Features"
   ]
  },
  {
   "cell_type": "code",
   "execution_count": 140,
   "metadata": {},
   "outputs": [],
   "source": [
    "from fuzzywuzzy import fuzz\n",
    "df['fuzz_ratio'] = df.apply(lambda x: fuzz.ratio(str(x['question1']), str(x['question2'])), axis=1)\n",
    "df['fuzz_partial_ratio'] = df.apply(lambda x: fuzz.partial_ratio(str(x['question1']), str(x['question2'])), axis=1)\n",
    "df['fuzz_partial_token_set_ratio'] = df.apply(lambda x: fuzz.partial_token_set_ratio(str(x['question1']), str(x['question2'])), axis=1)\n",
    "df['fuzz_partial_token_sort_ratio'] = df.apply(lambda x: fuzz.partial_token_sort_ratio(str(x['question1']), str(x['question2'])), axis=1)\n",
    "df['fuzz_token_set_ratio'] = df.apply(lambda x: fuzz.token_set_ratio(str(x['question1']), str(x['question2'])), axis=1)\n",
    "df['fuzz_token_sort_ratio'] = df.apply(lambda x: fuzz.token_sort_ratio(str(x['question1']), str(x['question2'])), axis=1)"
   ]
  },
  {
   "cell_type": "code",
   "execution_count": 141,
   "metadata": {},
   "outputs": [
    {
     "data": {
      "text/html": [
       "<div>\n",
       "<style scoped>\n",
       "    .dataframe tbody tr th:only-of-type {\n",
       "        vertical-align: middle;\n",
       "    }\n",
       "\n",
       "    .dataframe tbody tr th {\n",
       "        vertical-align: top;\n",
       "    }\n",
       "\n",
       "    .dataframe thead th {\n",
       "        text-align: right;\n",
       "    }\n",
       "</style>\n",
       "<table border=\"1\" class=\"dataframe\">\n",
       "  <thead>\n",
       "    <tr style=\"text-align: right;\">\n",
       "      <th></th>\n",
       "      <th>id</th>\n",
       "      <th>qid1</th>\n",
       "      <th>qid2</th>\n",
       "      <th>question1</th>\n",
       "      <th>question2</th>\n",
       "      <th>is_duplicate</th>\n",
       "      <th>num_words_q1</th>\n",
       "      <th>num_words_q2</th>\n",
       "      <th>len_q1</th>\n",
       "      <th>len_q2</th>\n",
       "      <th>...</th>\n",
       "      <th>ct_min</th>\n",
       "      <th>ct_max</th>\n",
       "      <th>token_len_abs</th>\n",
       "      <th>token_len_avg</th>\n",
       "      <th>fuzz_ratio</th>\n",
       "      <th>fuzz_partial_ratio</th>\n",
       "      <th>fuzz_partial_token_set_ratio</th>\n",
       "      <th>fuzz_partial_token_sort_ratio</th>\n",
       "      <th>fuzz_token_set_ratio</th>\n",
       "      <th>fuzz_token_sort_ratio</th>\n",
       "    </tr>\n",
       "  </thead>\n",
       "  <tbody>\n",
       "    <tr>\n",
       "      <td>395627</td>\n",
       "      <td>395648</td>\n",
       "      <td>494699</td>\n",
       "      <td>528639</td>\n",
       "      <td>does crow see from just one eye</td>\n",
       "      <td>how far can one see with the naked eye how is ...</td>\n",
       "      <td>0</td>\n",
       "      <td>8</td>\n",
       "      <td>14</td>\n",
       "      <td>32</td>\n",
       "      <td>62</td>\n",
       "      <td>...</td>\n",
       "      <td>0.428571</td>\n",
       "      <td>0.230769</td>\n",
       "      <td>6.0</td>\n",
       "      <td>10.0</td>\n",
       "      <td>40</td>\n",
       "      <td>56</td>\n",
       "      <td>100</td>\n",
       "      <td>52</td>\n",
       "      <td>52</td>\n",
       "      <td>43</td>\n",
       "    </tr>\n",
       "    <tr>\n",
       "      <td>25052</td>\n",
       "      <td>25054</td>\n",
       "      <td>46729</td>\n",
       "      <td>46730</td>\n",
       "      <td>how do i unblock fortiguard application control</td>\n",
       "      <td>how can i unblock torrents</td>\n",
       "      <td>0</td>\n",
       "      <td>8</td>\n",
       "      <td>6</td>\n",
       "      <td>48</td>\n",
       "      <td>27</td>\n",
       "      <td>...</td>\n",
       "      <td>0.600000</td>\n",
       "      <td>0.428571</td>\n",
       "      <td>2.0</td>\n",
       "      <td>6.0</td>\n",
       "      <td>56</td>\n",
       "      <td>67</td>\n",
       "      <td>100</td>\n",
       "      <td>58</td>\n",
       "      <td>67</td>\n",
       "      <td>49</td>\n",
       "    </tr>\n",
       "    <tr>\n",
       "      <td>44746</td>\n",
       "      <td>44749</td>\n",
       "      <td>80277</td>\n",
       "      <td>80278</td>\n",
       "      <td>how can i make money off bitcoin</td>\n",
       "      <td>can you make money with bitcoin</td>\n",
       "      <td>0</td>\n",
       "      <td>8</td>\n",
       "      <td>7</td>\n",
       "      <td>33</td>\n",
       "      <td>32</td>\n",
       "      <td>...</td>\n",
       "      <td>0.666667</td>\n",
       "      <td>0.571429</td>\n",
       "      <td>1.0</td>\n",
       "      <td>6.5</td>\n",
       "      <td>77</td>\n",
       "      <td>82</td>\n",
       "      <td>100</td>\n",
       "      <td>77</td>\n",
       "      <td>86</td>\n",
       "      <td>76</td>\n",
       "    </tr>\n",
       "    <tr>\n",
       "      <td>28221</td>\n",
       "      <td>28223</td>\n",
       "      <td>52353</td>\n",
       "      <td>52354</td>\n",
       "      <td>who is the head of immigration officer of mala...</td>\n",
       "      <td>how do avascular plants and vascular plants di...</td>\n",
       "      <td>0</td>\n",
       "      <td>10</td>\n",
       "      <td>9</td>\n",
       "      <td>51</td>\n",
       "      <td>51</td>\n",
       "      <td>...</td>\n",
       "      <td>0.000000</td>\n",
       "      <td>0.000000</td>\n",
       "      <td>1.0</td>\n",
       "      <td>8.5</td>\n",
       "      <td>37</td>\n",
       "      <td>37</td>\n",
       "      <td>37</td>\n",
       "      <td>32</td>\n",
       "      <td>36</td>\n",
       "      <td>32</td>\n",
       "    </tr>\n",
       "    <tr>\n",
       "      <td>306360</td>\n",
       "      <td>306380</td>\n",
       "      <td>429895</td>\n",
       "      <td>429896</td>\n",
       "      <td>what is ionizing radiation</td>\n",
       "      <td>can you feel ionizing radiation</td>\n",
       "      <td>0</td>\n",
       "      <td>5</td>\n",
       "      <td>6</td>\n",
       "      <td>27</td>\n",
       "      <td>32</td>\n",
       "      <td>...</td>\n",
       "      <td>0.500000</td>\n",
       "      <td>0.400000</td>\n",
       "      <td>1.0</td>\n",
       "      <td>4.5</td>\n",
       "      <td>75</td>\n",
       "      <td>78</td>\n",
       "      <td>100</td>\n",
       "      <td>79</td>\n",
       "      <td>82</td>\n",
       "      <td>67</td>\n",
       "    </tr>\n",
       "  </tbody>\n",
       "</table>\n",
       "<p>5 rows × 25 columns</p>\n",
       "</div>"
      ],
      "text/plain": [
       "            id    qid1    qid2  \\\n",
       "395627  395648  494699  528639   \n",
       "25052    25054   46729   46730   \n",
       "44746    44749   80277   80278   \n",
       "28221    28223   52353   52354   \n",
       "306360  306380  429895  429896   \n",
       "\n",
       "                                                question1  \\\n",
       "395627                   does crow see from just one eye    \n",
       "25052    how do i unblock fortiguard application control    \n",
       "44746                   how can i make money off bitcoin    \n",
       "28221   who is the head of immigration officer of mala...   \n",
       "306360                        what is ionizing radiation    \n",
       "\n",
       "                                                question2  is_duplicate  \\\n",
       "395627  how far can one see with the naked eye how is ...             0   \n",
       "25052                         how can i unblock torrents              0   \n",
       "44746                    can you make money with bitcoin              0   \n",
       "28221   how do avascular plants and vascular plants di...             0   \n",
       "306360                   can you feel ionizing radiation              0   \n",
       "\n",
       "        num_words_q1  num_words_q2  len_q1  len_q2  ...    ct_min    ct_max  \\\n",
       "395627             8            14      32      62  ...  0.428571  0.230769   \n",
       "25052              8             6      48      27  ...  0.600000  0.428571   \n",
       "44746              8             7      33      32  ...  0.666667  0.571429   \n",
       "28221             10             9      51      51  ...  0.000000  0.000000   \n",
       "306360             5             6      27      32  ...  0.500000  0.400000   \n",
       "\n",
       "        token_len_abs  token_len_avg  fuzz_ratio  fuzz_partial_ratio  \\\n",
       "395627            6.0           10.0          40                  56   \n",
       "25052             2.0            6.0          56                  67   \n",
       "44746             1.0            6.5          77                  82   \n",
       "28221             1.0            8.5          37                  37   \n",
       "306360            1.0            4.5          75                  78   \n",
       "\n",
       "        fuzz_partial_token_set_ratio  fuzz_partial_token_sort_ratio  \\\n",
       "395627                           100                             52   \n",
       "25052                            100                             58   \n",
       "44746                            100                             77   \n",
       "28221                             37                             32   \n",
       "306360                           100                             79   \n",
       "\n",
       "        fuzz_token_set_ratio  fuzz_token_sort_ratio  \n",
       "395627                    52                     43  \n",
       "25052                     67                     49  \n",
       "44746                     86                     76  \n",
       "28221                     36                     32  \n",
       "306360                    82                     67  \n",
       "\n",
       "[5 rows x 25 columns]"
      ]
     },
     "execution_count": 141,
     "metadata": {},
     "output_type": "execute_result"
    }
   ],
   "source": [
    "df.head()"
   ]
  },
  {
   "cell_type": "code",
   "execution_count": 142,
   "metadata": {},
   "outputs": [],
   "source": [
    "df_basic_fuzz = df.drop(['id','qid1', 'qid2', 'question1', 'question2'], axis=1)"
   ]
  },
  {
   "cell_type": "code",
   "execution_count": 143,
   "metadata": {},
   "outputs": [
    {
     "data": {
      "text/html": [
       "<div>\n",
       "<style scoped>\n",
       "    .dataframe tbody tr th:only-of-type {\n",
       "        vertical-align: middle;\n",
       "    }\n",
       "\n",
       "    .dataframe tbody tr th {\n",
       "        vertical-align: top;\n",
       "    }\n",
       "\n",
       "    .dataframe thead th {\n",
       "        text-align: right;\n",
       "    }\n",
       "</style>\n",
       "<table border=\"1\" class=\"dataframe\">\n",
       "  <thead>\n",
       "    <tr style=\"text-align: right;\">\n",
       "      <th></th>\n",
       "      <th>is_duplicate</th>\n",
       "      <th>num_words_q1</th>\n",
       "      <th>num_words_q2</th>\n",
       "      <th>len_q1</th>\n",
       "      <th>len_q2</th>\n",
       "      <th>word_share</th>\n",
       "      <th>cw_min</th>\n",
       "      <th>cw_max</th>\n",
       "      <th>cs_min</th>\n",
       "      <th>cs_max</th>\n",
       "      <th>ct_min</th>\n",
       "      <th>ct_max</th>\n",
       "      <th>token_len_abs</th>\n",
       "      <th>token_len_avg</th>\n",
       "      <th>fuzz_ratio</th>\n",
       "      <th>fuzz_partial_ratio</th>\n",
       "      <th>fuzz_partial_token_set_ratio</th>\n",
       "      <th>fuzz_partial_token_sort_ratio</th>\n",
       "      <th>fuzz_token_set_ratio</th>\n",
       "      <th>fuzz_token_sort_ratio</th>\n",
       "    </tr>\n",
       "  </thead>\n",
       "  <tbody>\n",
       "    <tr>\n",
       "      <td>395627</td>\n",
       "      <td>0</td>\n",
       "      <td>8</td>\n",
       "      <td>14</td>\n",
       "      <td>32</td>\n",
       "      <td>62</td>\n",
       "      <td>0.190476</td>\n",
       "      <td>0.75</td>\n",
       "      <td>0.500000</td>\n",
       "      <td>0.000000</td>\n",
       "      <td>0.000000</td>\n",
       "      <td>0.428571</td>\n",
       "      <td>0.230769</td>\n",
       "      <td>6.0</td>\n",
       "      <td>10.0</td>\n",
       "      <td>40</td>\n",
       "      <td>56</td>\n",
       "      <td>100</td>\n",
       "      <td>52</td>\n",
       "      <td>52</td>\n",
       "      <td>43</td>\n",
       "    </tr>\n",
       "    <tr>\n",
       "      <td>25052</td>\n",
       "      <td>0</td>\n",
       "      <td>8</td>\n",
       "      <td>6</td>\n",
       "      <td>48</td>\n",
       "      <td>27</td>\n",
       "      <td>0.285714</td>\n",
       "      <td>0.50</td>\n",
       "      <td>0.250000</td>\n",
       "      <td>0.666667</td>\n",
       "      <td>0.666667</td>\n",
       "      <td>0.600000</td>\n",
       "      <td>0.428571</td>\n",
       "      <td>2.0</td>\n",
       "      <td>6.0</td>\n",
       "      <td>56</td>\n",
       "      <td>67</td>\n",
       "      <td>100</td>\n",
       "      <td>58</td>\n",
       "      <td>67</td>\n",
       "      <td>49</td>\n",
       "    </tr>\n",
       "    <tr>\n",
       "      <td>44746</td>\n",
       "      <td>0</td>\n",
       "      <td>8</td>\n",
       "      <td>7</td>\n",
       "      <td>33</td>\n",
       "      <td>32</td>\n",
       "      <td>0.333333</td>\n",
       "      <td>1.00</td>\n",
       "      <td>1.000000</td>\n",
       "      <td>0.333333</td>\n",
       "      <td>0.250000</td>\n",
       "      <td>0.666667</td>\n",
       "      <td>0.571429</td>\n",
       "      <td>1.0</td>\n",
       "      <td>6.5</td>\n",
       "      <td>77</td>\n",
       "      <td>82</td>\n",
       "      <td>100</td>\n",
       "      <td>77</td>\n",
       "      <td>86</td>\n",
       "      <td>76</td>\n",
       "    </tr>\n",
       "    <tr>\n",
       "      <td>28221</td>\n",
       "      <td>0</td>\n",
       "      <td>10</td>\n",
       "      <td>9</td>\n",
       "      <td>51</td>\n",
       "      <td>51</td>\n",
       "      <td>0.058824</td>\n",
       "      <td>0.00</td>\n",
       "      <td>0.000000</td>\n",
       "      <td>0.000000</td>\n",
       "      <td>0.000000</td>\n",
       "      <td>0.000000</td>\n",
       "      <td>0.000000</td>\n",
       "      <td>1.0</td>\n",
       "      <td>8.5</td>\n",
       "      <td>37</td>\n",
       "      <td>37</td>\n",
       "      <td>37</td>\n",
       "      <td>32</td>\n",
       "      <td>36</td>\n",
       "      <td>32</td>\n",
       "    </tr>\n",
       "    <tr>\n",
       "      <td>306360</td>\n",
       "      <td>0</td>\n",
       "      <td>5</td>\n",
       "      <td>6</td>\n",
       "      <td>27</td>\n",
       "      <td>32</td>\n",
       "      <td>0.272727</td>\n",
       "      <td>1.00</td>\n",
       "      <td>0.666667</td>\n",
       "      <td>0.000000</td>\n",
       "      <td>0.000000</td>\n",
       "      <td>0.500000</td>\n",
       "      <td>0.400000</td>\n",
       "      <td>1.0</td>\n",
       "      <td>4.5</td>\n",
       "      <td>75</td>\n",
       "      <td>78</td>\n",
       "      <td>100</td>\n",
       "      <td>79</td>\n",
       "      <td>82</td>\n",
       "      <td>67</td>\n",
       "    </tr>\n",
       "  </tbody>\n",
       "</table>\n",
       "</div>"
      ],
      "text/plain": [
       "        is_duplicate  num_words_q1  num_words_q2  len_q1  len_q2  word_share  \\\n",
       "395627             0             8            14      32      62    0.190476   \n",
       "25052              0             8             6      48      27    0.285714   \n",
       "44746              0             8             7      33      32    0.333333   \n",
       "28221              0            10             9      51      51    0.058824   \n",
       "306360             0             5             6      27      32    0.272727   \n",
       "\n",
       "        cw_min    cw_max    cs_min    cs_max    ct_min    ct_max  \\\n",
       "395627    0.75  0.500000  0.000000  0.000000  0.428571  0.230769   \n",
       "25052     0.50  0.250000  0.666667  0.666667  0.600000  0.428571   \n",
       "44746     1.00  1.000000  0.333333  0.250000  0.666667  0.571429   \n",
       "28221     0.00  0.000000  0.000000  0.000000  0.000000  0.000000   \n",
       "306360    1.00  0.666667  0.000000  0.000000  0.500000  0.400000   \n",
       "\n",
       "        token_len_abs  token_len_avg  fuzz_ratio  fuzz_partial_ratio  \\\n",
       "395627            6.0           10.0          40                  56   \n",
       "25052             2.0            6.0          56                  67   \n",
       "44746             1.0            6.5          77                  82   \n",
       "28221             1.0            8.5          37                  37   \n",
       "306360            1.0            4.5          75                  78   \n",
       "\n",
       "        fuzz_partial_token_set_ratio  fuzz_partial_token_sort_ratio  \\\n",
       "395627                           100                             52   \n",
       "25052                            100                             58   \n",
       "44746                            100                             77   \n",
       "28221                             37                             32   \n",
       "306360                           100                             79   \n",
       "\n",
       "        fuzz_token_set_ratio  fuzz_token_sort_ratio  \n",
       "395627                    52                     43  \n",
       "25052                     67                     49  \n",
       "44746                     86                     76  \n",
       "28221                     36                     32  \n",
       "306360                    82                     67  "
      ]
     },
     "execution_count": 143,
     "metadata": {},
     "output_type": "execute_result"
    }
   ],
   "source": [
    "df_basic_fuzz.head()"
   ]
  },
  {
   "cell_type": "code",
   "execution_count": 144,
   "metadata": {},
   "outputs": [
    {
     "name": "stderr",
     "output_type": "stream",
     "text": [
      "/Users/Olga/opt/anaconda3/lib/python3.7/site-packages/sklearn/linear_model/_logistic.py:940: ConvergenceWarning:\n",
      "\n",
      "lbfgs failed to converge (status=1):\n",
      "STOP: TOTAL NO. of ITERATIONS REACHED LIMIT.\n",
      "\n",
      "Increase the number of iterations (max_iter) or scale the data as shown in:\n",
      "    https://scikit-learn.org/stable/modules/preprocessing.html\n",
      "Please also refer to the documentation for alternative solver options:\n",
      "    https://scikit-learn.org/stable/modules/linear_model.html#logistic-regression\n",
      "\n",
      "/Users/Olga/opt/anaconda3/lib/python3.7/site-packages/sklearn/linear_model/_logistic.py:940: ConvergenceWarning:\n",
      "\n",
      "lbfgs failed to converge (status=1):\n",
      "STOP: TOTAL NO. of ITERATIONS REACHED LIMIT.\n",
      "\n",
      "Increase the number of iterations (max_iter) or scale the data as shown in:\n",
      "    https://scikit-learn.org/stable/modules/preprocessing.html\n",
      "Please also refer to the documentation for alternative solver options:\n",
      "    https://scikit-learn.org/stable/modules/linear_model.html#logistic-regression\n",
      "\n",
      "/Users/Olga/opt/anaconda3/lib/python3.7/site-packages/sklearn/linear_model/_logistic.py:940: ConvergenceWarning:\n",
      "\n",
      "lbfgs failed to converge (status=1):\n",
      "STOP: TOTAL NO. of ITERATIONS REACHED LIMIT.\n",
      "\n",
      "Increase the number of iterations (max_iter) or scale the data as shown in:\n",
      "    https://scikit-learn.org/stable/modules/preprocessing.html\n",
      "Please also refer to the documentation for alternative solver options:\n",
      "    https://scikit-learn.org/stable/modules/linear_model.html#logistic-regression\n",
      "\n"
     ]
    },
    {
     "name": "stdout",
     "output_type": "stream",
     "text": [
      "LogisticRegression 0.6819856925235704\n",
      "XGBoost 0.7622142633726515\n",
      "RandomForest 0.7792285570529517\n"
     ]
    }
   ],
   "source": [
    "# building models based on basic features\n",
    "from sklearn.model_selection import train_test_split\n",
    "import scipy \n",
    "from sklearn.metrics import f1_score, classification_report, accuracy_score\n",
    "from sklearn.linear_model import LogisticRegression\n",
    "from sklearn.ensemble import RandomForestClassifier\n",
    "from sklearn.model_selection import cross_val_score\n",
    "import xgboost as xgb\n",
    "\n",
    "\n",
    "# spliting data on train and test\n",
    "X = df_basic_fuzz.drop(['is_duplicate'],axis=1)\n",
    "y = df_basic_fuzz['is_duplicate']\n",
    "X_train,X_test,y_train,y_test = train_test_split(X, y , test_size = 0.3, random_state = 123)\n",
    "\n",
    "# making list of models\n",
    "models = []\n",
    "\n",
    "models.append((\"LogisticRegression\",LogisticRegression()))\n",
    "models.append((\"XGBoost\", xgb.XGBClassifier()))\n",
    "models.append((\"RandomForest\",RandomForestClassifier()))\n",
    "\n",
    "results = []\n",
    "names = []\n",
    "for name,model in models:\n",
    "    result = cross_val_score(model, X_train, y_train,  cv=3)\n",
    "    names.append(name)\n",
    "    results.append(result)\n",
    "\n",
    "for i in range(len(names)):\n",
    "    print(names[i],results[i].mean())\n"
   ]
  },
  {
   "cell_type": "code",
   "execution_count": 145,
   "metadata": {},
   "outputs": [
    {
     "name": "stdout",
     "output_type": "stream",
     "text": [
      "              precision    recall  f1-score   support\n",
      "\n",
      "           0       0.84      0.70      0.77     15137\n",
      "           1       0.74      0.87      0.80     14863\n",
      "\n",
      "    accuracy                           0.78     30000\n",
      "   macro avg       0.79      0.78      0.78     30000\n",
      "weighted avg       0.79      0.78      0.78     30000\n",
      "\n",
      "0.7848325067614196\n"
     ]
    }
   ],
   "source": [
    "from sklearn.metrics import roc_auc_score\n",
    "\n",
    "# build rf model\n",
    "rf_model = RandomForestClassifier(max_depth=50, n_estimators=80).fit(X_train, y_train) \n",
    "# making predictions\n",
    "rf_prediction = rf_model.predict(X_test)\n",
    "\n",
    "# performance assessment\n",
    "print(classification_report(y_test, rf_prediction))\n",
    "\n",
    "print(roc_auc_score(y_test, rf_prediction))"
   ]
  },
  {
   "cell_type": "code",
   "execution_count": 146,
   "metadata": {},
   "outputs": [
    {
     "name": "stdout",
     "output_type": "stream",
     "text": [
      "              precision    recall  f1-score   support\n",
      "\n",
      "           0       0.83      0.69      0.75     15137\n",
      "           1       0.73      0.86      0.79     14863\n",
      "\n",
      "    accuracy                           0.77     30000\n",
      "   macro avg       0.78      0.77      0.77     30000\n",
      "weighted avg       0.78      0.77      0.77     30000\n",
      "\n",
      "0.7747555683878359\n"
     ]
    }
   ],
   "source": [
    "from sklearn.metrics import roc_auc_score\n",
    "\n",
    "# build XGboost model\n",
    "xgb_model = xgb.XGBClassifier(max_depth=50, n_estimators=80, learning_rate=0.1, colsample_bytree=.7, gamma=0, reg_alpha=4, objective='binary:logistic', eta=0.3, silent=1, subsample=0.8).fit(X_train, y_train) \n",
    "# making predictions\n",
    "xgb_prediction = xgb_model.predict(X_test)\n",
    "\n",
    "# performance assessment\n",
    "print(classification_report(y_test, xgb_prediction))\n",
    "\n",
    "print(roc_auc_score(y_test, xgb_prediction))"
   ]
  },
  {
   "cell_type": "markdown",
   "metadata": {},
   "source": [
    "###  Bag of Words"
   ]
  },
  {
   "cell_type": "code",
   "execution_count": 147,
   "metadata": {},
   "outputs": [],
   "source": [
    "from sklearn.feature_extraction.text import CountVectorizer\n",
    "\n",
    "# create the transform\n",
    "count_vect = CountVectorizer(analyzer='word')\n",
    "# tokenize and build vocab\n",
    "count_vect.fit(pd.concat((df['question1'],df['question2'])).unique())\n",
    "# encode document\n",
    "trans1 = count_vect.transform(df['question1'].values)\n",
    "trans2 = count_vect.transform(df['question2'].values)\n"
   ]
  },
  {
   "cell_type": "code",
   "execution_count": 148,
   "metadata": {},
   "outputs": [
    {
     "name": "stderr",
     "output_type": "stream",
     "text": [
      "/Users/Olga/opt/anaconda3/lib/python3.7/site-packages/sklearn/linear_model/_logistic.py:940: ConvergenceWarning:\n",
      "\n",
      "lbfgs failed to converge (status=1):\n",
      "STOP: TOTAL NO. of ITERATIONS REACHED LIMIT.\n",
      "\n",
      "Increase the number of iterations (max_iter) or scale the data as shown in:\n",
      "    https://scikit-learn.org/stable/modules/preprocessing.html\n",
      "Please also refer to the documentation for alternative solver options:\n",
      "    https://scikit-learn.org/stable/modules/linear_model.html#logistic-regression\n",
      "\n",
      "/Users/Olga/opt/anaconda3/lib/python3.7/site-packages/sklearn/linear_model/_logistic.py:940: ConvergenceWarning:\n",
      "\n",
      "lbfgs failed to converge (status=1):\n",
      "STOP: TOTAL NO. of ITERATIONS REACHED LIMIT.\n",
      "\n",
      "Increase the number of iterations (max_iter) or scale the data as shown in:\n",
      "    https://scikit-learn.org/stable/modules/preprocessing.html\n",
      "Please also refer to the documentation for alternative solver options:\n",
      "    https://scikit-learn.org/stable/modules/linear_model.html#logistic-regression\n",
      "\n",
      "/Users/Olga/opt/anaconda3/lib/python3.7/site-packages/sklearn/linear_model/_logistic.py:940: ConvergenceWarning:\n",
      "\n",
      "lbfgs failed to converge (status=1):\n",
      "STOP: TOTAL NO. of ITERATIONS REACHED LIMIT.\n",
      "\n",
      "Increase the number of iterations (max_iter) or scale the data as shown in:\n",
      "    https://scikit-learn.org/stable/modules/preprocessing.html\n",
      "Please also refer to the documentation for alternative solver options:\n",
      "    https://scikit-learn.org/stable/modules/linear_model.html#logistic-regression\n",
      "\n"
     ]
    },
    {
     "name": "stdout",
     "output_type": "stream",
     "text": [
      "LogisticRegression 0.714357128046888\n",
      "XGBoost 0.7268285033588616\n",
      "RandomForest 0.7752142482761325\n"
     ]
    }
   ],
   "source": [
    "from sklearn.model_selection import train_test_split\n",
    "import scipy \n",
    "from sklearn.metrics import f1_score, classification_report, accuracy_score\n",
    "from sklearn.linear_model import LogisticRegression\n",
    "from sklearn.ensemble import RandomForestClassifier\n",
    "from sklearn.model_selection import cross_val_score\n",
    "import xgboost as xgb\n",
    "\n",
    "\n",
    "# train/test split\n",
    "labels = df['is_duplicate'].values\n",
    "X = scipy.sparse.hstack((trans1,trans2))\n",
    "y = labels\n",
    "X_train,X_test,y_train,y_test = train_test_split(X,y, test_size = 0.3, random_state = 123)\n",
    "\n",
    "# making list of models\n",
    "models = []\n",
    "\n",
    "models.append((\"LogisticRegression\",LogisticRegression()))\n",
    "models.append((\"XGBoost\", xgb.XGBClassifier()))\n",
    "models.append((\"RandomForest\",RandomForestClassifier()))\n",
    "\n",
    "results = []\n",
    "names = []\n",
    "for name,model in models:\n",
    "    result = cross_val_score(model, X_train, y_train,  cv=3)\n",
    "    names.append(name)\n",
    "    results.append(result)\n",
    "\n",
    "for i in range(len(names)):\n",
    "    print(names[i],results[i].mean())\n"
   ]
  },
  {
   "cell_type": "code",
   "execution_count": 149,
   "metadata": {},
   "outputs": [
    {
     "name": "stdout",
     "output_type": "stream",
     "text": [
      "              precision    recall  f1-score   support\n",
      "\n",
      "           0       0.72      0.73      0.73     15137\n",
      "           1       0.72      0.72      0.72     14863\n",
      "\n",
      "    accuracy                           0.72     30000\n",
      "   macro avg       0.72      0.72      0.72     30000\n",
      "weighted avg       0.72      0.72      0.72     30000\n",
      "\n",
      "0.7218900406852161\n"
     ]
    }
   ],
   "source": [
    "from sklearn.metrics import roc_auc_score\n",
    "\n",
    "# build rf model\n",
    "rf_model = RandomForestClassifier(max_depth=50, n_estimators=80).fit(X_train, y_train) \n",
    "# making predictions\n",
    "rf_prediction = rf_model.predict(X_test)\n",
    "\n",
    "# performance assessment\n",
    "print(classification_report(y_test, rf_prediction))\n",
    "\n",
    "print(roc_auc_score(y_test, rf_prediction))"
   ]
  },
  {
   "cell_type": "code",
   "execution_count": 150,
   "metadata": {},
   "outputs": [
    {
     "name": "stdout",
     "output_type": "stream",
     "text": [
      "              precision    recall  f1-score   support\n",
      "\n",
      "           0       0.77      0.76      0.77     15137\n",
      "           1       0.76      0.77      0.77     14863\n",
      "\n",
      "    accuracy                           0.77     30000\n",
      "   macro avg       0.77      0.77      0.77     30000\n",
      "weighted avg       0.77      0.77      0.77     30000\n",
      "\n",
      "0.7691719226125134\n"
     ]
    }
   ],
   "source": [
    "from sklearn.metrics import roc_auc_score\n",
    "\n",
    "# build XGboost model\n",
    "xgb_model = xgb.XGBClassifier(max_depth=50, n_estimators=80, learning_rate=0.1, colsample_bytree=.7, gamma=0, reg_alpha=4, objective='binary:logistic', eta=0.3, silent=1, subsample=0.8).fit(X_train, y_train) \n",
    "# making predictions\n",
    "xgb_prediction = xgb_model.predict(X_test)\n",
    "\n",
    "# performance assessment\n",
    "print(classification_report(y_test, xgb_prediction))\n",
    "\n",
    "print(roc_auc_score(y_test, xgb_prediction))"
   ]
  },
  {
   "cell_type": "markdown",
   "metadata": {},
   "source": [
    "### Bag of Words (analyzer = \"char\")"
   ]
  },
  {
   "cell_type": "code",
   "execution_count": 151,
   "metadata": {},
   "outputs": [],
   "source": [
    "from sklearn.feature_extraction.text import CountVectorizer\n",
    "\n",
    "# create the transform\n",
    "count_vect = CountVectorizer(analyzer='char')\n",
    "# tokenize and build vocab\n",
    "count_vect.fit(pd.concat((df['question1'],df['question2'])).unique())\n",
    "# encode document\n",
    "trans1 = count_vect.transform(df['question1'].values)\n",
    "trans2 = count_vect.transform(df['question2'].values)"
   ]
  },
  {
   "cell_type": "code",
   "execution_count": 152,
   "metadata": {},
   "outputs": [
    {
     "name": "stderr",
     "output_type": "stream",
     "text": [
      "/Users/Olga/opt/anaconda3/lib/python3.7/site-packages/sklearn/linear_model/_logistic.py:940: ConvergenceWarning:\n",
      "\n",
      "lbfgs failed to converge (status=1):\n",
      "STOP: TOTAL NO. of ITERATIONS REACHED LIMIT.\n",
      "\n",
      "Increase the number of iterations (max_iter) or scale the data as shown in:\n",
      "    https://scikit-learn.org/stable/modules/preprocessing.html\n",
      "Please also refer to the documentation for alternative solver options:\n",
      "    https://scikit-learn.org/stable/modules/linear_model.html#logistic-regression\n",
      "\n",
      "/Users/Olga/opt/anaconda3/lib/python3.7/site-packages/sklearn/linear_model/_logistic.py:940: ConvergenceWarning:\n",
      "\n",
      "lbfgs failed to converge (status=1):\n",
      "STOP: TOTAL NO. of ITERATIONS REACHED LIMIT.\n",
      "\n",
      "Increase the number of iterations (max_iter) or scale the data as shown in:\n",
      "    https://scikit-learn.org/stable/modules/preprocessing.html\n",
      "Please also refer to the documentation for alternative solver options:\n",
      "    https://scikit-learn.org/stable/modules/linear_model.html#logistic-regression\n",
      "\n",
      "/Users/Olga/opt/anaconda3/lib/python3.7/site-packages/sklearn/linear_model/_logistic.py:940: ConvergenceWarning:\n",
      "\n",
      "lbfgs failed to converge (status=1):\n",
      "STOP: TOTAL NO. of ITERATIONS REACHED LIMIT.\n",
      "\n",
      "Increase the number of iterations (max_iter) or scale the data as shown in:\n",
      "    https://scikit-learn.org/stable/modules/preprocessing.html\n",
      "Please also refer to the documentation for alternative solver options:\n",
      "    https://scikit-learn.org/stable/modules/linear_model.html#logistic-regression\n",
      "\n"
     ]
    },
    {
     "name": "stdout",
     "output_type": "stream",
     "text": [
      "LogisticRegression 0.6174857084153841\n",
      "XGBoost 0.7212142715190658\n",
      "RandomForest 0.7373714223418734\n"
     ]
    }
   ],
   "source": [
    "from sklearn.model_selection import train_test_split\n",
    "import scipy \n",
    "from sklearn.metrics import f1_score, classification_report, accuracy_score\n",
    "from sklearn.linear_model import LogisticRegression\n",
    "from sklearn.ensemble import RandomForestClassifier\n",
    "from sklearn.model_selection import cross_val_score\n",
    "import xgboost as xgb\n",
    "\n",
    "\n",
    "# train/test split\n",
    "labels = df['is_duplicate'].values\n",
    "X = scipy.sparse.hstack((trans1,trans2))\n",
    "y = labels\n",
    "X_train,X_test,y_train,y_test = train_test_split(X,y, test_size = 0.3, random_state = 123)\n",
    "\n",
    "# making list of models\n",
    "models = []\n",
    "\n",
    "models.append((\"LogisticRegression\",LogisticRegression()))\n",
    "models.append((\"XGBoost\", xgb.XGBClassifier()))\n",
    "models.append((\"RandomForest\",RandomForestClassifier()))\n",
    "\n",
    "results = []\n",
    "names = []\n",
    "for name,model in models:\n",
    "    result = cross_val_score(model, X_train, y_train,  cv=3)\n",
    "    names.append(name)\n",
    "    results.append(result)\n",
    "\n",
    "for i in range(len(names)):\n",
    "    print(names[i],results[i].mean())"
   ]
  },
  {
   "cell_type": "code",
   "execution_count": 153,
   "metadata": {},
   "outputs": [
    {
     "name": "stdout",
     "output_type": "stream",
     "text": [
      "              precision    recall  f1-score   support\n",
      "\n",
      "           0       0.78      0.73      0.75     15137\n",
      "           1       0.74      0.79      0.76     14863\n",
      "\n",
      "    accuracy                           0.76     30000\n",
      "   macro avg       0.76      0.76      0.76     30000\n",
      "weighted avg       0.76      0.76      0.76     30000\n",
      "\n",
      "0.758905941802763\n"
     ]
    }
   ],
   "source": [
    "from sklearn.metrics import roc_auc_score\n",
    "\n",
    "# build rf model\n",
    "rf_model = RandomForestClassifier(max_depth=50, n_estimators=80).fit(X_train, y_train) \n",
    "# making predictions\n",
    "rf_prediction = rf_model.predict(X_test)\n",
    "\n",
    "# performance assessment\n",
    "print(classification_report(y_test, rf_prediction))\n",
    "\n",
    "print(roc_auc_score(y_test, rf_prediction))"
   ]
  },
  {
   "cell_type": "code",
   "execution_count": 154,
   "metadata": {},
   "outputs": [
    {
     "name": "stdout",
     "output_type": "stream",
     "text": [
      "              precision    recall  f1-score   support\n",
      "\n",
      "           0       0.78      0.75      0.76     15137\n",
      "           1       0.75      0.79      0.77     14863\n",
      "\n",
      "    accuracy                           0.77     30000\n",
      "   macro avg       0.77      0.77      0.77     30000\n",
      "weighted avg       0.77      0.77      0.77     30000\n",
      "\n",
      "0.7678328620221657\n"
     ]
    }
   ],
   "source": [
    "from sklearn.metrics import roc_auc_score\n",
    "\n",
    "# build XGboost model\n",
    "xgb_model = xgb.XGBClassifier(max_depth=50, n_estimators=80, learning_rate=0.1, colsample_bytree=.7, gamma=0, reg_alpha=4, objective='binary:logistic', eta=0.3, silent=1, subsample=0.8).fit(X_train, y_train) \n",
    "# making predictions\n",
    "xgb_prediction = xgb_model.predict(X_test)\n",
    "\n",
    "# performance assessment\n",
    "print(classification_report(y_test, xgb_prediction))\n",
    "\n",
    "print(roc_auc_score(y_test, xgb_prediction))"
   ]
  },
  {
   "cell_type": "markdown",
   "metadata": {},
   "source": [
    "### TF-IDF"
   ]
  },
  {
   "cell_type": "code",
   "execution_count": 155,
   "metadata": {},
   "outputs": [],
   "source": [
    "from sklearn.feature_extraction.text import TfidfVectorizer\n",
    "\n",
    "# create the transform\n",
    "tfidf_vect = TfidfVectorizer(analyzer='word')\n",
    "# tokenize and build vocab\n",
    "tfidf_vect.fit(pd.concat((df['question1'],df['question2'])).unique())\n",
    "# encode document\n",
    "trans1_tfidf = tfidf_vect.transform(df['question1'].values)\n",
    "trans2_tfidf = tfidf_vect.transform(df['question2'].values)\n"
   ]
  },
  {
   "cell_type": "code",
   "execution_count": 156,
   "metadata": {},
   "outputs": [
    {
     "name": "stderr",
     "output_type": "stream",
     "text": [
      "/Users/Olga/opt/anaconda3/lib/python3.7/site-packages/sklearn/linear_model/_logistic.py:940: ConvergenceWarning:\n",
      "\n",
      "lbfgs failed to converge (status=1):\n",
      "STOP: TOTAL NO. of ITERATIONS REACHED LIMIT.\n",
      "\n",
      "Increase the number of iterations (max_iter) or scale the data as shown in:\n",
      "    https://scikit-learn.org/stable/modules/preprocessing.html\n",
      "Please also refer to the documentation for alternative solver options:\n",
      "    https://scikit-learn.org/stable/modules/linear_model.html#logistic-regression\n",
      "\n",
      "/Users/Olga/opt/anaconda3/lib/python3.7/site-packages/sklearn/linear_model/_logistic.py:940: ConvergenceWarning:\n",
      "\n",
      "lbfgs failed to converge (status=1):\n",
      "STOP: TOTAL NO. of ITERATIONS REACHED LIMIT.\n",
      "\n",
      "Increase the number of iterations (max_iter) or scale the data as shown in:\n",
      "    https://scikit-learn.org/stable/modules/preprocessing.html\n",
      "Please also refer to the documentation for alternative solver options:\n",
      "    https://scikit-learn.org/stable/modules/linear_model.html#logistic-regression\n",
      "\n",
      "/Users/Olga/opt/anaconda3/lib/python3.7/site-packages/sklearn/linear_model/_logistic.py:940: ConvergenceWarning:\n",
      "\n",
      "lbfgs failed to converge (status=1):\n",
      "STOP: TOTAL NO. of ITERATIONS REACHED LIMIT.\n",
      "\n",
      "Increase the number of iterations (max_iter) or scale the data as shown in:\n",
      "    https://scikit-learn.org/stable/modules/preprocessing.html\n",
      "Please also refer to the documentation for alternative solver options:\n",
      "    https://scikit-learn.org/stable/modules/linear_model.html#logistic-regression\n",
      "\n"
     ]
    },
    {
     "name": "stdout",
     "output_type": "stream",
     "text": [
      "LogisticRegression 0.7237714178465905\n",
      "XGBoost 0.729899971522815\n",
      "RandomForest 0.7726856799077098\n"
     ]
    }
   ],
   "source": [
    "from sklearn.model_selection import train_test_split\n",
    "import scipy \n",
    "from sklearn.metrics import f1_score, classification_report, accuracy_score\n",
    "from sklearn.linear_model import LogisticRegression\n",
    "from sklearn.svm import SVC, LinearSVC\n",
    "from sklearn.neighbors import KNeighborsClassifier\n",
    "from sklearn.tree import DecisionTreeClassifier\n",
    "from sklearn.ensemble import RandomForestClassifier\n",
    "from sklearn.naive_bayes import GaussianNB\n",
    "from sklearn.neural_network import MLPClassifier\n",
    "from sklearn.model_selection import cross_val_score\n",
    "import xgboost as xgb\n",
    "\n",
    "\n",
    "\n",
    "# train/test split\n",
    "labels = df['is_duplicate'].values\n",
    "X = scipy.sparse.hstack((trans1_tfidf,trans2_tfidf))\n",
    "y = labels\n",
    "X_train,X_test,y_train,y_test = train_test_split(X,y, test_size = 0.3, random_state = 123)\n",
    "\n",
    "\n",
    "models = []\n",
    "\n",
    "models.append((\"LogisticRegression\",LogisticRegression()))\n",
    "# models.append((\"KNeighbors\",KNeighborsClassifier()))\n",
    "models.append((\"XGBoost\", xgb.XGBClassifier()))\n",
    "models.append((\"RandomForest\",RandomForestClassifier()))\n",
    "\n",
    "results = []\n",
    "names = []\n",
    "for name,model in models:\n",
    "    result = cross_val_score(model, X_train, y_train,  cv=3)\n",
    "    names.append(name)\n",
    "    results.append(result)\n",
    "\n",
    "for i in range(len(names)):\n",
    "    print(names[i],results[i].mean())"
   ]
  },
  {
   "cell_type": "code",
   "execution_count": 157,
   "metadata": {},
   "outputs": [
    {
     "name": "stdout",
     "output_type": "stream",
     "text": [
      "              precision    recall  f1-score   support\n",
      "\n",
      "           0       0.71      0.77      0.74     15137\n",
      "           1       0.75      0.68      0.71     14863\n",
      "\n",
      "    accuracy                           0.73     30000\n",
      "   macro avg       0.73      0.73      0.73     30000\n",
      "weighted avg       0.73      0.73      0.73     30000\n",
      "\n",
      "0.7258009824828455\n"
     ]
    }
   ],
   "source": [
    "from sklearn.metrics import roc_auc_score\n",
    "\n",
    "# build rf model\n",
    "rf_model = RandomForestClassifier(max_depth=50, n_estimators=80).fit(X_train, y_train) \n",
    "# making predictions\n",
    "rf_prediction = rf_model.predict(X_test)\n",
    "\n",
    "# performance assessment\n",
    "print(classification_report(y_test, rf_prediction))\n",
    "\n",
    "print(roc_auc_score(y_test, rf_prediction))"
   ]
  },
  {
   "cell_type": "code",
   "execution_count": 158,
   "metadata": {},
   "outputs": [
    {
     "name": "stdout",
     "output_type": "stream",
     "text": [
      "              precision    recall  f1-score   support\n",
      "\n",
      "           0       0.79      0.77      0.78     15137\n",
      "           1       0.77      0.79      0.78     14863\n",
      "\n",
      "    accuracy                           0.78     30000\n",
      "   macro avg       0.78      0.78      0.78     30000\n",
      "weighted avg       0.78      0.78      0.78     30000\n",
      "\n",
      "0.782673055513684\n"
     ]
    }
   ],
   "source": [
    "from sklearn.metrics import roc_auc_score\n",
    "\n",
    "# build XGboost model\n",
    "xgb_model = xgb.XGBClassifier(max_depth=50, n_estimators=80, learning_rate=0.1, colsample_bytree=.7, gamma=0, reg_alpha=4, objective='binary:logistic', eta=0.3, silent=1, subsample=0.8).fit(X_train, y_train) \n",
    "# making predictions\n",
    "xgb_prediction = xgb_model.predict(X_test)\n",
    "\n",
    "# performance assessment\n",
    "print(classification_report(y_test, xgb_prediction))\n",
    "\n",
    "print(roc_auc_score(y_test, xgb_prediction))"
   ]
  },
  {
   "cell_type": "markdown",
   "metadata": {},
   "source": [
    "### TF-IDF (n-gram)"
   ]
  },
  {
   "cell_type": "code",
   "execution_count": 159,
   "metadata": {},
   "outputs": [],
   "source": [
    "from sklearn.feature_extraction.text import TfidfVectorizer\n",
    "\n",
    "# create the transform\n",
    "tfidf_vect_ngram = TfidfVectorizer(analyzer='word', ngram_range=(2,3),max_features=5000)\n",
    "# tokenize and build vocab\n",
    "tfidf_vect_ngram.fit(pd.concat((df['question1'],df['question2'])).unique())\n",
    "# encode document\n",
    "trans1_tfidf_ngram = tfidf_vect_ngram.transform(df['question1'].values)\n",
    "trans2_tfidf_ngram = tfidf_vect_ngram.transform(df['question2'].values)"
   ]
  },
  {
   "cell_type": "code",
   "execution_count": 160,
   "metadata": {},
   "outputs": [
    {
     "name": "stderr",
     "output_type": "stream",
     "text": [
      "/Users/Olga/opt/anaconda3/lib/python3.7/site-packages/sklearn/linear_model/_logistic.py:940: ConvergenceWarning:\n",
      "\n",
      "lbfgs failed to converge (status=1):\n",
      "STOP: TOTAL NO. of ITERATIONS REACHED LIMIT.\n",
      "\n",
      "Increase the number of iterations (max_iter) or scale the data as shown in:\n",
      "    https://scikit-learn.org/stable/modules/preprocessing.html\n",
      "Please also refer to the documentation for alternative solver options:\n",
      "    https://scikit-learn.org/stable/modules/linear_model.html#logistic-regression\n",
      "\n",
      "/Users/Olga/opt/anaconda3/lib/python3.7/site-packages/sklearn/linear_model/_logistic.py:940: ConvergenceWarning:\n",
      "\n",
      "lbfgs failed to converge (status=1):\n",
      "STOP: TOTAL NO. of ITERATIONS REACHED LIMIT.\n",
      "\n",
      "Increase the number of iterations (max_iter) or scale the data as shown in:\n",
      "    https://scikit-learn.org/stable/modules/preprocessing.html\n",
      "Please also refer to the documentation for alternative solver options:\n",
      "    https://scikit-learn.org/stable/modules/linear_model.html#logistic-regression\n",
      "\n",
      "/Users/Olga/opt/anaconda3/lib/python3.7/site-packages/sklearn/linear_model/_logistic.py:940: ConvergenceWarning:\n",
      "\n",
      "lbfgs failed to converge (status=1):\n",
      "STOP: TOTAL NO. of ITERATIONS REACHED LIMIT.\n",
      "\n",
      "Increase the number of iterations (max_iter) or scale the data as shown in:\n",
      "    https://scikit-learn.org/stable/modules/preprocessing.html\n",
      "Please also refer to the documentation for alternative solver options:\n",
      "    https://scikit-learn.org/stable/modules/linear_model.html#logistic-regression\n",
      "\n"
     ]
    },
    {
     "name": "stdout",
     "output_type": "stream",
     "text": [
      "LogisticRegression 0.6770143098678241\n",
      "XGBoost 0.6630856674141739\n",
      "RandomForest 0.7196999451924974\n"
     ]
    }
   ],
   "source": [
    "from sklearn.model_selection import train_test_split\n",
    "import scipy \n",
    "from sklearn.metrics import f1_score, classification_report, accuracy_score\n",
    "from sklearn.linear_model import LogisticRegression\n",
    "from sklearn.ensemble import RandomForestClassifier\n",
    "from sklearn.model_selection import cross_val_score\n",
    "import xgboost as xgb\n",
    "\n",
    "\n",
    "# train/test split\n",
    "labels = df['is_duplicate'].values\n",
    "X = scipy.sparse.hstack((trans1_tfidf_ngram,trans2_tfidf_ngram))\n",
    "y = labels\n",
    "X_train,X_test,y_train,y_test = train_test_split(X,y, test_size = 0.3, random_state = 123)\n",
    "\n",
    "\n",
    "models = []\n",
    "# building models\n",
    "models.append((\"LogisticRegression\",LogisticRegression()))\n",
    "models.append((\"XGBoost\", xgb.XGBClassifier()))\n",
    "models.append((\"RandomForest\",RandomForestClassifier()))\n",
    "\n",
    "results = []\n",
    "names = []\n",
    "for name,model in models:\n",
    "    result = cross_val_score(model, X_train, y_train,  cv=3)\n",
    "    names.append(name)\n",
    "    results.append(result)\n",
    "\n",
    "for i in range(len(names)):\n",
    "    print(names[i],results[i].mean())"
   ]
  },
  {
   "cell_type": "code",
   "execution_count": 161,
   "metadata": {},
   "outputs": [
    {
     "name": "stdout",
     "output_type": "stream",
     "text": [
      "              precision    recall  f1-score   support\n",
      "\n",
      "           0       0.63      0.82      0.71     15137\n",
      "           1       0.73      0.50      0.60     14863\n",
      "\n",
      "    accuracy                           0.66     30000\n",
      "   macro avg       0.68      0.66      0.65     30000\n",
      "weighted avg       0.68      0.66      0.65     30000\n",
      "\n",
      "0.6612373545062521\n"
     ]
    }
   ],
   "source": [
    "from sklearn.metrics import roc_auc_score\n",
    "\n",
    "# build rf model\n",
    "rf_model = RandomForestClassifier(max_depth=50, n_estimators=80).fit(X_train, y_train) \n",
    "# making predictions\n",
    "rf_prediction = rf_model.predict(X_test)\n",
    "\n",
    "# performance assessment\n",
    "print(classification_report(y_test, rf_prediction))\n",
    "\n",
    "print(roc_auc_score(y_test, rf_prediction))"
   ]
  },
  {
   "cell_type": "code",
   "execution_count": 162,
   "metadata": {},
   "outputs": [
    {
     "name": "stdout",
     "output_type": "stream",
     "text": [
      "              precision    recall  f1-score   support\n",
      "\n",
      "           0       0.67      0.76      0.72     15137\n",
      "           1       0.72      0.63      0.67     14863\n",
      "\n",
      "    accuracy                           0.69     30000\n",
      "   macro avg       0.70      0.69      0.69     30000\n",
      "weighted avg       0.70      0.69      0.69     30000\n",
      "\n",
      "0.6939832416509447\n"
     ]
    }
   ],
   "source": [
    "from sklearn.metrics import roc_auc_score\n",
    "\n",
    "# build XGboost model\n",
    "xgb_model = xgb.XGBClassifier(max_depth=50, n_estimators=80, learning_rate=0.1, colsample_bytree=.7, gamma=0, reg_alpha=4, objective='binary:logistic', eta=0.3, silent=1, subsample=0.8).fit(X_train, y_train) \n",
    "# making predictions\n",
    "xgb_prediction = xgb_model.predict(X_test)\n",
    "\n",
    "# performance assessment\n",
    "print(classification_report(y_test, xgb_prediction))\n",
    "\n",
    "print(roc_auc_score(y_test, xgb_prediction))"
   ]
  },
  {
   "cell_type": "markdown",
   "metadata": {},
   "source": [
    "####  TF-IDF (char)"
   ]
  },
  {
   "cell_type": "code",
   "execution_count": 163,
   "metadata": {},
   "outputs": [],
   "source": [
    "from sklearn.feature_extraction.text import TfidfVectorizer\n",
    "\n",
    "# create the transform\n",
    "tfidf_vect_char = TfidfVectorizer(analyzer='char', ngram_range=(2,3))\n",
    "# tokenize and build vocab\n",
    "tfidf_vect_char.fit(pd.concat((df['question1'],df['question2'])).unique())\n",
    "# encode document\n",
    "trans1_tfidf_char = tfidf_vect_char.transform(df['question1'].values)\n",
    "trans2_tfidf_char = tfidf_vect_char.transform(df['question2'].values)\n"
   ]
  },
  {
   "cell_type": "code",
   "execution_count": 164,
   "metadata": {},
   "outputs": [
    {
     "name": "stderr",
     "output_type": "stream",
     "text": [
      "/Users/Olga/opt/anaconda3/lib/python3.7/site-packages/sklearn/linear_model/_logistic.py:940: ConvergenceWarning:\n",
      "\n",
      "lbfgs failed to converge (status=1):\n",
      "STOP: TOTAL NO. of ITERATIONS REACHED LIMIT.\n",
      "\n",
      "Increase the number of iterations (max_iter) or scale the data as shown in:\n",
      "    https://scikit-learn.org/stable/modules/preprocessing.html\n",
      "Please also refer to the documentation for alternative solver options:\n",
      "    https://scikit-learn.org/stable/modules/linear_model.html#logistic-regression\n",
      "\n",
      "/Users/Olga/opt/anaconda3/lib/python3.7/site-packages/sklearn/linear_model/_logistic.py:940: ConvergenceWarning:\n",
      "\n",
      "lbfgs failed to converge (status=1):\n",
      "STOP: TOTAL NO. of ITERATIONS REACHED LIMIT.\n",
      "\n",
      "Increase the number of iterations (max_iter) or scale the data as shown in:\n",
      "    https://scikit-learn.org/stable/modules/preprocessing.html\n",
      "Please also refer to the documentation for alternative solver options:\n",
      "    https://scikit-learn.org/stable/modules/linear_model.html#logistic-regression\n",
      "\n",
      "/Users/Olga/opt/anaconda3/lib/python3.7/site-packages/sklearn/linear_model/_logistic.py:940: ConvergenceWarning:\n",
      "\n",
      "lbfgs failed to converge (status=1):\n",
      "STOP: TOTAL NO. of ITERATIONS REACHED LIMIT.\n",
      "\n",
      "Increase the number of iterations (max_iter) or scale the data as shown in:\n",
      "    https://scikit-learn.org/stable/modules/preprocessing.html\n",
      "Please also refer to the documentation for alternative solver options:\n",
      "    https://scikit-learn.org/stable/modules/linear_model.html#logistic-regression\n",
      "\n"
     ]
    },
    {
     "name": "stdout",
     "output_type": "stream",
     "text": [
      "LogisticRegression 0.7053713876354303\n",
      "XGBoost 0.7525285521441646\n",
      "RandomForest 0.7691714088856573\n"
     ]
    }
   ],
   "source": [
    "from sklearn.model_selection import train_test_split\n",
    "import scipy \n",
    "from sklearn.metrics import f1_score, classification_report, accuracy_score\n",
    "from sklearn.linear_model import LogisticRegression\n",
    "from sklearn.ensemble import RandomForestClassifier\n",
    "from sklearn.model_selection import cross_val_score\n",
    "import xgboost as xgb\n",
    "\n",
    "\n",
    "# train/test split\n",
    "labels = df['is_duplicate'].values\n",
    "X = scipy.sparse.hstack((trans1_tfidf_char,trans2_tfidf_char))\n",
    "y = labels\n",
    "X_train,X_test,y_train,y_test = train_test_split(X,y, test_size = 0.3, random_state = 123)\n",
    "\n",
    "# building models\n",
    "models = []\n",
    "\n",
    "models.append((\"LogisticRegression\",LogisticRegression()))\n",
    "models.append((\"XGBoost\", xgb.XGBClassifier()))\n",
    "models.append((\"RandomForest\",RandomForestClassifier()))\n",
    "\n",
    "results = []\n",
    "names = []\n",
    "for name,model in models:\n",
    "    result = cross_val_score(model, X_train, y_train,  cv=3)\n",
    "    names.append(name)\n",
    "    results.append(result)\n",
    "\n",
    "for i in range(len(names)):\n",
    "    print(names[i],results[i].mean())"
   ]
  },
  {
   "cell_type": "code",
   "execution_count": 165,
   "metadata": {},
   "outputs": [
    {
     "name": "stdout",
     "output_type": "stream",
     "text": [
      "              precision    recall  f1-score   support\n",
      "\n",
      "           0       0.78      0.80      0.79     15137\n",
      "           1       0.79      0.77      0.78     14863\n",
      "\n",
      "    accuracy                           0.78     30000\n",
      "   macro avg       0.78      0.78      0.78     30000\n",
      "weighted avg       0.78      0.78      0.78     30000\n",
      "\n",
      "0.7835746262762692\n"
     ]
    }
   ],
   "source": [
    "from sklearn.metrics import roc_auc_score\n",
    "\n",
    "# build rf model\n",
    "rf_model = RandomForestClassifier(max_depth=50, n_estimators=80).fit(X_train, y_train) \n",
    "# making predictions\n",
    "rf_prediction = rf_model.predict(X_test)\n",
    "\n",
    "# performance assessment\n",
    "print(classification_report(y_test, rf_prediction))\n",
    "\n",
    "print(roc_auc_score(y_test, rf_prediction))"
   ]
  },
  {
   "cell_type": "code",
   "execution_count": 166,
   "metadata": {},
   "outputs": [
    {
     "name": "stdout",
     "output_type": "stream",
     "text": [
      "              precision    recall  f1-score   support\n",
      "\n",
      "           0       0.81      0.80      0.80     15137\n",
      "           1       0.80      0.81      0.80     14863\n",
      "\n",
      "    accuracy                           0.80     30000\n",
      "   macro avg       0.80      0.80      0.80     30000\n",
      "weighted avg       0.80      0.80      0.80     30000\n",
      "\n",
      "0.8036285280170772\n"
     ]
    }
   ],
   "source": [
    "from sklearn.metrics import roc_auc_score\n",
    "\n",
    "# build XGboost model\n",
    "xgb_model = xgb.XGBClassifier(max_depth=50, n_estimators=80, learning_rate=0.1, colsample_bytree=.7, gamma=0, reg_alpha=4, objective='binary:logistic', eta=0.3, silent=1, subsample=0.8).fit(X_train, y_train) \n",
    "# making predictions\n",
    "xgb_prediction = xgb_model.predict(X_test)\n",
    "\n",
    "# performance assessment\n",
    "print(classification_report(y_test, xgb_prediction))\n",
    "\n",
    "print(roc_auc_score(y_test, xgb_prediction))"
   ]
  },
  {
   "cell_type": "code",
   "execution_count": 167,
   "metadata": {},
   "outputs": [
    {
     "data": {
      "text/html": [
       "<div>\n",
       "<style scoped>\n",
       "    .dataframe tbody tr th:only-of-type {\n",
       "        vertical-align: middle;\n",
       "    }\n",
       "\n",
       "    .dataframe tbody tr th {\n",
       "        vertical-align: top;\n",
       "    }\n",
       "\n",
       "    .dataframe thead th {\n",
       "        text-align: right;\n",
       "    }\n",
       "</style>\n",
       "<table border=\"1\" class=\"dataframe\">\n",
       "  <thead>\n",
       "    <tr style=\"text-align: right;\">\n",
       "      <th></th>\n",
       "      <th>id</th>\n",
       "      <th>qid1</th>\n",
       "      <th>qid2</th>\n",
       "      <th>question1</th>\n",
       "      <th>question2</th>\n",
       "      <th>is_duplicate</th>\n",
       "      <th>num_words_q1</th>\n",
       "      <th>num_words_q2</th>\n",
       "      <th>len_q1</th>\n",
       "      <th>len_q2</th>\n",
       "      <th>...</th>\n",
       "      <th>ct_min</th>\n",
       "      <th>ct_max</th>\n",
       "      <th>token_len_abs</th>\n",
       "      <th>token_len_avg</th>\n",
       "      <th>fuzz_ratio</th>\n",
       "      <th>fuzz_partial_ratio</th>\n",
       "      <th>fuzz_partial_token_set_ratio</th>\n",
       "      <th>fuzz_partial_token_sort_ratio</th>\n",
       "      <th>fuzz_token_set_ratio</th>\n",
       "      <th>fuzz_token_sort_ratio</th>\n",
       "    </tr>\n",
       "  </thead>\n",
       "  <tbody>\n",
       "    <tr>\n",
       "      <td>395627</td>\n",
       "      <td>395648</td>\n",
       "      <td>494699</td>\n",
       "      <td>528639</td>\n",
       "      <td>does crow see from just one eye</td>\n",
       "      <td>how far can one see with the naked eye how is ...</td>\n",
       "      <td>0</td>\n",
       "      <td>8</td>\n",
       "      <td>14</td>\n",
       "      <td>32</td>\n",
       "      <td>62</td>\n",
       "      <td>...</td>\n",
       "      <td>0.428571</td>\n",
       "      <td>0.230769</td>\n",
       "      <td>6.0</td>\n",
       "      <td>10.0</td>\n",
       "      <td>40</td>\n",
       "      <td>56</td>\n",
       "      <td>100</td>\n",
       "      <td>52</td>\n",
       "      <td>52</td>\n",
       "      <td>43</td>\n",
       "    </tr>\n",
       "    <tr>\n",
       "      <td>25052</td>\n",
       "      <td>25054</td>\n",
       "      <td>46729</td>\n",
       "      <td>46730</td>\n",
       "      <td>how do i unblock fortiguard application control</td>\n",
       "      <td>how can i unblock torrents</td>\n",
       "      <td>0</td>\n",
       "      <td>8</td>\n",
       "      <td>6</td>\n",
       "      <td>48</td>\n",
       "      <td>27</td>\n",
       "      <td>...</td>\n",
       "      <td>0.600000</td>\n",
       "      <td>0.428571</td>\n",
       "      <td>2.0</td>\n",
       "      <td>6.0</td>\n",
       "      <td>56</td>\n",
       "      <td>67</td>\n",
       "      <td>100</td>\n",
       "      <td>58</td>\n",
       "      <td>67</td>\n",
       "      <td>49</td>\n",
       "    </tr>\n",
       "    <tr>\n",
       "      <td>44746</td>\n",
       "      <td>44749</td>\n",
       "      <td>80277</td>\n",
       "      <td>80278</td>\n",
       "      <td>how can i make money off bitcoin</td>\n",
       "      <td>can you make money with bitcoin</td>\n",
       "      <td>0</td>\n",
       "      <td>8</td>\n",
       "      <td>7</td>\n",
       "      <td>33</td>\n",
       "      <td>32</td>\n",
       "      <td>...</td>\n",
       "      <td>0.666667</td>\n",
       "      <td>0.571429</td>\n",
       "      <td>1.0</td>\n",
       "      <td>6.5</td>\n",
       "      <td>77</td>\n",
       "      <td>82</td>\n",
       "      <td>100</td>\n",
       "      <td>77</td>\n",
       "      <td>86</td>\n",
       "      <td>76</td>\n",
       "    </tr>\n",
       "    <tr>\n",
       "      <td>28221</td>\n",
       "      <td>28223</td>\n",
       "      <td>52353</td>\n",
       "      <td>52354</td>\n",
       "      <td>who is the head of immigration officer of mala...</td>\n",
       "      <td>how do avascular plants and vascular plants di...</td>\n",
       "      <td>0</td>\n",
       "      <td>10</td>\n",
       "      <td>9</td>\n",
       "      <td>51</td>\n",
       "      <td>51</td>\n",
       "      <td>...</td>\n",
       "      <td>0.000000</td>\n",
       "      <td>0.000000</td>\n",
       "      <td>1.0</td>\n",
       "      <td>8.5</td>\n",
       "      <td>37</td>\n",
       "      <td>37</td>\n",
       "      <td>37</td>\n",
       "      <td>32</td>\n",
       "      <td>36</td>\n",
       "      <td>32</td>\n",
       "    </tr>\n",
       "    <tr>\n",
       "      <td>306360</td>\n",
       "      <td>306380</td>\n",
       "      <td>429895</td>\n",
       "      <td>429896</td>\n",
       "      <td>what is ionizing radiation</td>\n",
       "      <td>can you feel ionizing radiation</td>\n",
       "      <td>0</td>\n",
       "      <td>5</td>\n",
       "      <td>6</td>\n",
       "      <td>27</td>\n",
       "      <td>32</td>\n",
       "      <td>...</td>\n",
       "      <td>0.500000</td>\n",
       "      <td>0.400000</td>\n",
       "      <td>1.0</td>\n",
       "      <td>4.5</td>\n",
       "      <td>75</td>\n",
       "      <td>78</td>\n",
       "      <td>100</td>\n",
       "      <td>79</td>\n",
       "      <td>82</td>\n",
       "      <td>67</td>\n",
       "    </tr>\n",
       "  </tbody>\n",
       "</table>\n",
       "<p>5 rows × 25 columns</p>\n",
       "</div>"
      ],
      "text/plain": [
       "            id    qid1    qid2  \\\n",
       "395627  395648  494699  528639   \n",
       "25052    25054   46729   46730   \n",
       "44746    44749   80277   80278   \n",
       "28221    28223   52353   52354   \n",
       "306360  306380  429895  429896   \n",
       "\n",
       "                                                question1  \\\n",
       "395627                   does crow see from just one eye    \n",
       "25052    how do i unblock fortiguard application control    \n",
       "44746                   how can i make money off bitcoin    \n",
       "28221   who is the head of immigration officer of mala...   \n",
       "306360                        what is ionizing radiation    \n",
       "\n",
       "                                                question2  is_duplicate  \\\n",
       "395627  how far can one see with the naked eye how is ...             0   \n",
       "25052                         how can i unblock torrents              0   \n",
       "44746                    can you make money with bitcoin              0   \n",
       "28221   how do avascular plants and vascular plants di...             0   \n",
       "306360                   can you feel ionizing radiation              0   \n",
       "\n",
       "        num_words_q1  num_words_q2  len_q1  len_q2  ...    ct_min    ct_max  \\\n",
       "395627             8            14      32      62  ...  0.428571  0.230769   \n",
       "25052              8             6      48      27  ...  0.600000  0.428571   \n",
       "44746              8             7      33      32  ...  0.666667  0.571429   \n",
       "28221             10             9      51      51  ...  0.000000  0.000000   \n",
       "306360             5             6      27      32  ...  0.500000  0.400000   \n",
       "\n",
       "        token_len_abs  token_len_avg  fuzz_ratio  fuzz_partial_ratio  \\\n",
       "395627            6.0           10.0          40                  56   \n",
       "25052             2.0            6.0          56                  67   \n",
       "44746             1.0            6.5          77                  82   \n",
       "28221             1.0            8.5          37                  37   \n",
       "306360            1.0            4.5          75                  78   \n",
       "\n",
       "        fuzz_partial_token_set_ratio  fuzz_partial_token_sort_ratio  \\\n",
       "395627                           100                             52   \n",
       "25052                            100                             58   \n",
       "44746                            100                             77   \n",
       "28221                             37                             32   \n",
       "306360                           100                             79   \n",
       "\n",
       "        fuzz_token_set_ratio  fuzz_token_sort_ratio  \n",
       "395627                    52                     43  \n",
       "25052                     67                     49  \n",
       "44746                     86                     76  \n",
       "28221                     36                     32  \n",
       "306360                    82                     67  \n",
       "\n",
       "[5 rows x 25 columns]"
      ]
     },
     "execution_count": 167,
     "metadata": {},
     "output_type": "execute_result"
    }
   ],
   "source": [
    "df.head()"
   ]
  },
  {
   "cell_type": "code",
   "execution_count": 168,
   "metadata": {},
   "outputs": [],
   "source": [
    "df.to_csv('df_basic.csv')"
   ]
  },
  {
   "cell_type": "code",
   "execution_count": null,
   "metadata": {},
   "outputs": [],
   "source": []
  }
 ],
 "metadata": {
  "kernelspec": {
   "display_name": "Python 3",
   "language": "python",
   "name": "python3"
  },
  "language_info": {
   "codemirror_mode": {
    "name": "ipython",
    "version": 3
   },
   "file_extension": ".py",
   "mimetype": "text/x-python",
   "name": "python",
   "nbconvert_exporter": "python",
   "pygments_lexer": "ipython3",
   "version": "3.7.4"
  }
 },
 "nbformat": 4,
 "nbformat_minor": 2
}
